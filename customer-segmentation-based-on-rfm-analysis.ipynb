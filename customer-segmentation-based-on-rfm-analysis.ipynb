{
 "cells": [
  {
   "cell_type": "markdown",
   "metadata": {
    "id": "hTtpYGGCnMmC"
   },
   "source": [
    "# **CUSTOMER SEGMENTATION BASED ON RFM ANALYSIS**"
   ]
  },
  {
   "cell_type": "markdown",
   "metadata": {
    "id": "sqwJLXXGwoFs"
   },
   "source": [
    "# Recency: How recently a customer has made a purchase. \n",
    "# Frequency: How often a customer makes a purchase. \n",
    "# Monetary Value: How much money a customer spends on purchases. "
   ]
  },
  {
   "cell_type": "markdown",
   "metadata": {
    "id": "tAZzSiKWVRlF"
   },
   "source": [
    "**An e-commerce company wants to segment its customers and determine marketing strategies according to these segments. To this end, we will define the behavior of customers and create groups according to clusters in these behaviors. In other words, we will include those who exhibit common behaviors in the same groups and we will try to develop special sales and marketing techniques for these groups.**\n",
    "\n"
   ]
  },
  {
   "cell_type": "markdown",
   "metadata": {
    "id": "TbtPO7cMVZC6"
   },
   "source": [
    "InvoiceNo: Invoice number. Nominal. A 6-digit integral number uniquely assigned to each transaction. If this code starts with the letter 'c', it indicates a cancellation.\n",
    "\n",
    "StockCode: Product (item) code. Nominal. A 5-digit integral number uniquely assigned to each distinct product.\n",
    "\n",
    "Description: Product (item) name. Nominal.\n",
    "\n",
    "Quantity: The quantities of each product (item) per transaction. Numeric.\n",
    "\n",
    "InvoiceDate: Invice date and time. Numeric. The day and time when a transaction was generated.\n",
    "\n",
    "UnitPrice: Unit price. Numeric. Product price per unit in sterling (Â£).\n",
    "\n",
    "CustomerID: Customer number. Nominal. A 5-digit integral number uniquely assigned to each customer.\n",
    "\n",
    "Country: Country name. Nominal. The name of the country where a customer resides."
   ]
  },
  {
   "cell_type": "code",
   "execution_count": 1,
   "metadata": {
    "execution": {
     "iopub.execute_input": "2021-09-25T14:44:52.231900Z",
     "iopub.status.busy": "2021-09-25T14:44:52.230667Z",
     "iopub.status.idle": "2021-09-25T14:44:52.272147Z",
     "shell.execute_reply": "2021-09-25T14:44:52.271486Z",
     "shell.execute_reply.started": "2021-09-25T14:44:52.231768Z"
    }
   },
   "outputs": [
    {
     "name": "stdout",
     "output_type": "stream",
     "text": [
      "/kaggle/input/online-retail-listing/online_retail_listing.csv\n"
     ]
    }
   ],
   "source": [
    "# This Python 3 environment comes with many helpful analytics libraries installed\n",
    "# It is defined by the kaggle/python Docker image: https://github.com/kaggle/docker-python\n",
    "# For example, here's several helpful packages to load\n",
    "\n",
    "import numpy as np # linear algebra\n",
    "import pandas as pd # data processing, CSV file I/O (e.g. pd.read_csv)\n",
    "\n",
    "# Input data files are available in the read-only \"../input/\" directory\n",
    "# For example, running this (by clicking run or pressing Shift+Enter) will list all files under the input directory\n",
    "\n",
    "import os\n",
    "for dirname, _, filenames in os.walk('/kaggle/input'):\n",
    "    for filename in filenames:\n",
    "        print(os.path.join(dirname, filename))\n",
    "\n",
    "# You can write up to 20GB to the current directory (/kaggle/working/) that gets preserved as output when you create a version using \"Save & Run All\" \n",
    "# You can also write temporary files to /kaggle/temp/, but they won't be saved outside of the current session"
   ]
  },
  {
   "cell_type": "code",
   "execution_count": 2,
   "metadata": {
    "execution": {
     "iopub.execute_input": "2021-09-25T14:44:52.274305Z",
     "iopub.status.busy": "2021-09-25T14:44:52.273586Z",
     "iopub.status.idle": "2021-09-25T14:44:53.324972Z",
     "shell.execute_reply": "2021-09-25T14:44:53.323953Z",
     "shell.execute_reply.started": "2021-09-25T14:44:52.274268Z"
    },
    "id": "qFpUqIbIRTim"
   },
   "outputs": [],
   "source": [
    "import numpy as np\n",
    "import pandas as pd\n",
    "import matplotlib.pyplot as plt\n",
    "import seaborn as sns\n",
    "\n",
    "from warnings import filterwarnings\n",
    "filterwarnings(\"ignore\")\n",
    "\n",
    "plt.rcParams[\"figure.figsize\"]=[10,5]"
   ]
  },
  {
   "cell_type": "code",
   "execution_count": 3,
   "metadata": {
    "execution": {
     "iopub.execute_input": "2021-09-25T14:44:53.327264Z",
     "iopub.status.busy": "2021-09-25T14:44:53.326490Z",
     "iopub.status.idle": "2021-09-25T14:44:55.805943Z",
     "shell.execute_reply": "2021-09-25T14:44:55.804991Z",
     "shell.execute_reply.started": "2021-09-25T14:44:53.327226Z"
    }
   },
   "outputs": [],
   "source": [
    "df=pd.read_csv(\"../input/online-retail-listing/online_retail_listing.csv\",delimiter=\";\",encoding=\"latin-1\")"
   ]
  },
  {
   "cell_type": "code",
   "execution_count": 4,
   "metadata": {
    "execution": {
     "iopub.execute_input": "2021-09-25T14:44:55.808073Z",
     "iopub.status.busy": "2021-09-25T14:44:55.807796Z",
     "iopub.status.idle": "2021-09-25T14:44:55.836293Z",
     "shell.execute_reply": "2021-09-25T14:44:55.835693Z",
     "shell.execute_reply.started": "2021-09-25T14:44:55.808040Z"
    },
    "id": "cma7js-0Tbm6",
    "outputId": "dc71804b-a42a-49e2-fdea-996b9806d869"
   },
   "outputs": [
    {
     "data": {
      "text/html": [
       "<div>\n",
       "<style scoped>\n",
       "    .dataframe tbody tr th:only-of-type {\n",
       "        vertical-align: middle;\n",
       "    }\n",
       "\n",
       "    .dataframe tbody tr th {\n",
       "        vertical-align: top;\n",
       "    }\n",
       "\n",
       "    .dataframe thead th {\n",
       "        text-align: right;\n",
       "    }\n",
       "</style>\n",
       "<table border=\"1\" class=\"dataframe\">\n",
       "  <thead>\n",
       "    <tr style=\"text-align: right;\">\n",
       "      <th></th>\n",
       "      <th>Invoice</th>\n",
       "      <th>StockCode</th>\n",
       "      <th>Description</th>\n",
       "      <th>Quantity</th>\n",
       "      <th>InvoiceDate</th>\n",
       "      <th>Price</th>\n",
       "      <th>Customer ID</th>\n",
       "      <th>Country</th>\n",
       "    </tr>\n",
       "  </thead>\n",
       "  <tbody>\n",
       "    <tr>\n",
       "      <th>0</th>\n",
       "      <td>489434</td>\n",
       "      <td>85048</td>\n",
       "      <td>15CM CHRISTMAS GLASS BALL 20 LIGHTS</td>\n",
       "      <td>12</td>\n",
       "      <td>1.12.2009 07:45</td>\n",
       "      <td>6,95</td>\n",
       "      <td>13085.0</td>\n",
       "      <td>United Kingdom</td>\n",
       "    </tr>\n",
       "    <tr>\n",
       "      <th>1</th>\n",
       "      <td>489434</td>\n",
       "      <td>79323P</td>\n",
       "      <td>PINK CHERRY LIGHTS</td>\n",
       "      <td>12</td>\n",
       "      <td>1.12.2009 07:45</td>\n",
       "      <td>6,75</td>\n",
       "      <td>13085.0</td>\n",
       "      <td>United Kingdom</td>\n",
       "    </tr>\n",
       "    <tr>\n",
       "      <th>2</th>\n",
       "      <td>489434</td>\n",
       "      <td>79323W</td>\n",
       "      <td>WHITE CHERRY LIGHTS</td>\n",
       "      <td>12</td>\n",
       "      <td>1.12.2009 07:45</td>\n",
       "      <td>6,75</td>\n",
       "      <td>13085.0</td>\n",
       "      <td>United Kingdom</td>\n",
       "    </tr>\n",
       "    <tr>\n",
       "      <th>3</th>\n",
       "      <td>489434</td>\n",
       "      <td>22041</td>\n",
       "      <td>RECORD FRAME 7\" SINGLE SIZE</td>\n",
       "      <td>48</td>\n",
       "      <td>1.12.2009 07:45</td>\n",
       "      <td>2,1</td>\n",
       "      <td>13085.0</td>\n",
       "      <td>United Kingdom</td>\n",
       "    </tr>\n",
       "    <tr>\n",
       "      <th>4</th>\n",
       "      <td>489434</td>\n",
       "      <td>21232</td>\n",
       "      <td>STRAWBERRY CERAMIC TRINKET BOX</td>\n",
       "      <td>24</td>\n",
       "      <td>1.12.2009 07:45</td>\n",
       "      <td>1,25</td>\n",
       "      <td>13085.0</td>\n",
       "      <td>United Kingdom</td>\n",
       "    </tr>\n",
       "  </tbody>\n",
       "</table>\n",
       "</div>"
      ],
      "text/plain": [
       "  Invoice StockCode                          Description  Quantity  \\\n",
       "0  489434     85048  15CM CHRISTMAS GLASS BALL 20 LIGHTS        12   \n",
       "1  489434    79323P                   PINK CHERRY LIGHTS        12   \n",
       "2  489434    79323W                  WHITE CHERRY LIGHTS        12   \n",
       "3  489434     22041         RECORD FRAME 7\" SINGLE SIZE         48   \n",
       "4  489434     21232       STRAWBERRY CERAMIC TRINKET BOX        24   \n",
       "\n",
       "       InvoiceDate Price  Customer ID         Country  \n",
       "0  1.12.2009 07:45  6,95      13085.0  United Kingdom  \n",
       "1  1.12.2009 07:45  6,75      13085.0  United Kingdom  \n",
       "2  1.12.2009 07:45  6,75      13085.0  United Kingdom  \n",
       "3  1.12.2009 07:45   2,1      13085.0  United Kingdom  \n",
       "4  1.12.2009 07:45  1,25      13085.0  United Kingdom  "
      ]
     },
     "execution_count": 4,
     "metadata": {},
     "output_type": "execute_result"
    }
   ],
   "source": [
    "df.head()"
   ]
  },
  {
   "cell_type": "code",
   "execution_count": 5,
   "metadata": {
    "execution": {
     "iopub.execute_input": "2021-09-25T14:44:55.837953Z",
     "iopub.status.busy": "2021-09-25T14:44:55.837321Z",
     "iopub.status.idle": "2021-09-25T14:44:55.842896Z",
     "shell.execute_reply": "2021-09-25T14:44:55.842320Z",
     "shell.execute_reply.started": "2021-09-25T14:44:55.837918Z"
    },
    "id": "BeUHySG2ofdg",
    "outputId": "40e3137f-c689-4066-d310-50af054858b3"
   },
   "outputs": [
    {
     "data": {
      "text/plain": [
       "(1048575, 8)"
      ]
     },
     "execution_count": 5,
     "metadata": {},
     "output_type": "execute_result"
    }
   ],
   "source": [
    "df.shape"
   ]
  },
  {
   "cell_type": "code",
   "execution_count": 6,
   "metadata": {
    "execution": {
     "iopub.execute_input": "2021-09-25T14:44:55.844578Z",
     "iopub.status.busy": "2021-09-25T14:44:55.843873Z",
     "iopub.status.idle": "2021-09-25T14:44:56.518059Z",
     "shell.execute_reply": "2021-09-25T14:44:56.517228Z",
     "shell.execute_reply.started": "2021-09-25T14:44:55.844539Z"
    },
    "id": "F2rmwSyrofrD",
    "outputId": "3cae4f0f-738d-4d7b-f6f1-869a9e9b9fe7"
   },
   "outputs": [
    {
     "data": {
      "text/plain": [
       "Invoice        52961\n",
       "StockCode       5304\n",
       "Description     5697\n",
       "Quantity        1048\n",
       "InvoiceDate    47046\n",
       "Price           2784\n",
       "Customer ID     5924\n",
       "Country           43\n",
       "dtype: int64"
      ]
     },
     "execution_count": 6,
     "metadata": {},
     "output_type": "execute_result"
    }
   ],
   "source": [
    "df.nunique()"
   ]
  },
  {
   "cell_type": "code",
   "execution_count": 7,
   "metadata": {
    "execution": {
     "iopub.execute_input": "2021-09-25T14:44:56.519629Z",
     "iopub.status.busy": "2021-09-25T14:44:56.519217Z",
     "iopub.status.idle": "2021-09-25T14:44:57.226184Z",
     "shell.execute_reply": "2021-09-25T14:44:57.225284Z",
     "shell.execute_reply.started": "2021-09-25T14:44:56.519597Z"
    },
    "id": "EhUOa7fEof0a",
    "outputId": "637e445a-2028-4a2a-d159-b39892de59f7"
   },
   "outputs": [
    {
     "name": "stdout",
     "output_type": "stream",
     "text": [
      "<class 'pandas.core.frame.DataFrame'>\n",
      "RangeIndex: 1048575 entries, 0 to 1048574\n",
      "Data columns (total 8 columns):\n",
      " #   Column       Non-Null Count    Dtype  \n",
      "---  ------       --------------    -----  \n",
      " 0   Invoice      1048575 non-null  object \n",
      " 1   StockCode    1048575 non-null  object \n",
      " 2   Description  1044203 non-null  object \n",
      " 3   Quantity     1048575 non-null  int64  \n",
      " 4   InvoiceDate  1048575 non-null  object \n",
      " 5   Price        1048575 non-null  object \n",
      " 6   Customer ID  811893 non-null   float64\n",
      " 7   Country      1048575 non-null  object \n",
      "dtypes: float64(1), int64(1), object(6)\n",
      "memory usage: 64.0+ MB\n"
     ]
    }
   ],
   "source": [
    "df.info()"
   ]
  },
  {
   "cell_type": "markdown",
   "metadata": {
    "id": "OI2IU92Tot15"
   },
   "source": [
    "**DATA TYPE CONVERSION**"
   ]
  },
  {
   "cell_type": "code",
   "execution_count": 8,
   "metadata": {
    "execution": {
     "iopub.execute_input": "2021-09-25T14:44:57.227684Z",
     "iopub.status.busy": "2021-09-25T14:44:57.227459Z",
     "iopub.status.idle": "2021-09-25T14:45:02.225828Z",
     "shell.execute_reply": "2021-09-25T14:45:02.224802Z",
     "shell.execute_reply.started": "2021-09-25T14:44:57.227657Z"
    },
    "id": "YodgyAHdof7A"
   },
   "outputs": [],
   "source": [
    "df[\"InvoiceDate\"]=pd.to_datetime(df[\"InvoiceDate\"])"
   ]
  },
  {
   "cell_type": "code",
   "execution_count": 9,
   "metadata": {
    "execution": {
     "iopub.execute_input": "2021-09-25T14:45:02.227319Z",
     "iopub.status.busy": "2021-09-25T14:45:02.227069Z",
     "iopub.status.idle": "2021-09-25T14:45:02.314626Z",
     "shell.execute_reply": "2021-09-25T14:45:02.313577Z",
     "shell.execute_reply.started": "2021-09-25T14:45:02.227291Z"
    },
    "id": "HIbJqtKQpLn_"
   },
   "outputs": [],
   "source": [
    "df[\"Customer ID\"]=df[\"Customer ID\"].astype(\"object\")"
   ]
  },
  {
   "cell_type": "code",
   "execution_count": 10,
   "metadata": {
    "execution": {
     "iopub.execute_input": "2021-09-25T14:45:02.318786Z",
     "iopub.status.busy": "2021-09-25T14:45:02.318390Z",
     "iopub.status.idle": "2021-09-25T14:45:02.324720Z",
     "shell.execute_reply": "2021-09-25T14:45:02.323435Z",
     "shell.execute_reply.started": "2021-09-25T14:45:02.318737Z"
    },
    "id": "vGERQGpdsGOm"
   },
   "outputs": [],
   "source": [
    "def myfunction(column):\n",
    "    if isinstance(column,str):\n",
    "        a=column.replace(\",\",\".\")\n",
    "        return a"
   ]
  },
  {
   "cell_type": "code",
   "execution_count": 11,
   "metadata": {
    "execution": {
     "iopub.execute_input": "2021-09-25T14:45:02.327326Z",
     "iopub.status.busy": "2021-09-25T14:45:02.326931Z",
     "iopub.status.idle": "2021-09-25T14:45:02.917394Z",
     "shell.execute_reply": "2021-09-25T14:45:02.916567Z",
     "shell.execute_reply.started": "2021-09-25T14:45:02.327295Z"
    },
    "id": "81wAI-Npr-d1"
   },
   "outputs": [],
   "source": [
    "df[\"Price\"]=df[\"Price\"].apply(myfunction)"
   ]
  },
  {
   "cell_type": "code",
   "execution_count": 12,
   "metadata": {
    "execution": {
     "iopub.execute_input": "2021-09-25T14:45:02.919057Z",
     "iopub.status.busy": "2021-09-25T14:45:02.918797Z",
     "iopub.status.idle": "2021-09-25T14:45:02.926977Z",
     "shell.execute_reply": "2021-09-25T14:45:02.925878Z",
     "shell.execute_reply.started": "2021-09-25T14:45:02.919021Z"
    },
    "id": "gSIyIWeLtAOh",
    "outputId": "05ae8041-1ad4-4c3f-d1d7-a505258060e0"
   },
   "outputs": [
    {
     "data": {
      "text/plain": [
       "0          6.95\n",
       "1          6.75\n",
       "2          6.75\n",
       "3           2.1\n",
       "4          1.25\n",
       "           ... \n",
       "1048570    8.25\n",
       "1048571    4.95\n",
       "1048572    1.65\n",
       "1048573    2.89\n",
       "1048574    6.65\n",
       "Name: Price, Length: 1048575, dtype: object"
      ]
     },
     "execution_count": 12,
     "metadata": {},
     "output_type": "execute_result"
    }
   ],
   "source": [
    "df[\"Price\"]"
   ]
  },
  {
   "cell_type": "code",
   "execution_count": 13,
   "metadata": {
    "execution": {
     "iopub.execute_input": "2021-09-25T14:45:02.928608Z",
     "iopub.status.busy": "2021-09-25T14:45:02.928374Z",
     "iopub.status.idle": "2021-09-25T14:45:03.574107Z",
     "shell.execute_reply": "2021-09-25T14:45:03.573493Z",
     "shell.execute_reply.started": "2021-09-25T14:45:02.928579Z"
    },
    "id": "4nNIPoc_q9NO"
   },
   "outputs": [],
   "source": [
    "df[\"Price\"]=pd.to_numeric(df[\"Price\"])"
   ]
  },
  {
   "cell_type": "code",
   "execution_count": 14,
   "metadata": {
    "execution": {
     "iopub.execute_input": "2021-09-25T14:45:03.575818Z",
     "iopub.status.busy": "2021-09-25T14:45:03.575129Z",
     "iopub.status.idle": "2021-09-25T14:45:03.582293Z",
     "shell.execute_reply": "2021-09-25T14:45:03.581013Z",
     "shell.execute_reply.started": "2021-09-25T14:45:03.575783Z"
    },
    "id": "EzwSACU8tIMc",
    "outputId": "6c902133-4c4e-449c-fedf-7dc03176f1c1"
   },
   "outputs": [
    {
     "data": {
      "text/plain": [
       "dtype('float64')"
      ]
     },
     "execution_count": 14,
     "metadata": {},
     "output_type": "execute_result"
    }
   ],
   "source": [
    "df[\"Price\"].dtype"
   ]
  },
  {
   "cell_type": "code",
   "execution_count": 15,
   "metadata": {
    "execution": {
     "iopub.execute_input": "2021-09-25T14:45:03.584575Z",
     "iopub.status.busy": "2021-09-25T14:45:03.584151Z",
     "iopub.status.idle": "2021-09-25T14:45:03.844437Z",
     "shell.execute_reply": "2021-09-25T14:45:03.843560Z",
     "shell.execute_reply.started": "2021-09-25T14:45:03.584534Z"
    },
    "id": "QatNRSozxbAS",
    "outputId": "bb9971ce-8180-4288-c04c-ab2208c3a78f"
   },
   "outputs": [
    {
     "data": {
      "text/html": [
       "<div>\n",
       "<style scoped>\n",
       "    .dataframe tbody tr th:only-of-type {\n",
       "        vertical-align: middle;\n",
       "    }\n",
       "\n",
       "    .dataframe tbody tr th {\n",
       "        vertical-align: top;\n",
       "    }\n",
       "\n",
       "    .dataframe thead th {\n",
       "        text-align: right;\n",
       "    }\n",
       "</style>\n",
       "<table border=\"1\" class=\"dataframe\">\n",
       "  <thead>\n",
       "    <tr style=\"text-align: right;\">\n",
       "      <th></th>\n",
       "      <th>Quantity</th>\n",
       "      <th>Price</th>\n",
       "    </tr>\n",
       "  </thead>\n",
       "  <tbody>\n",
       "    <tr>\n",
       "      <th>count</th>\n",
       "      <td>1.048575e+06</td>\n",
       "      <td>1.048575e+06</td>\n",
       "    </tr>\n",
       "    <tr>\n",
       "      <th>mean</th>\n",
       "      <td>9.957525e+00</td>\n",
       "      <td>4.627346e+00</td>\n",
       "    </tr>\n",
       "    <tr>\n",
       "      <th>std</th>\n",
       "      <td>1.335187e+02</td>\n",
       "      <td>1.228024e+02</td>\n",
       "    </tr>\n",
       "    <tr>\n",
       "      <th>min</th>\n",
       "      <td>-7.421500e+04</td>\n",
       "      <td>-5.359436e+04</td>\n",
       "    </tr>\n",
       "    <tr>\n",
       "      <th>25%</th>\n",
       "      <td>1.000000e+00</td>\n",
       "      <td>1.250000e+00</td>\n",
       "    </tr>\n",
       "    <tr>\n",
       "      <th>50%</th>\n",
       "      <td>3.000000e+00</td>\n",
       "      <td>2.100000e+00</td>\n",
       "    </tr>\n",
       "    <tr>\n",
       "      <th>75%</th>\n",
       "      <td>1.000000e+01</td>\n",
       "      <td>4.150000e+00</td>\n",
       "    </tr>\n",
       "    <tr>\n",
       "      <th>max</th>\n",
       "      <td>7.421500e+04</td>\n",
       "      <td>3.897000e+04</td>\n",
       "    </tr>\n",
       "  </tbody>\n",
       "</table>\n",
       "</div>"
      ],
      "text/plain": [
       "           Quantity         Price\n",
       "count  1.048575e+06  1.048575e+06\n",
       "mean   9.957525e+00  4.627346e+00\n",
       "std    1.335187e+02  1.228024e+02\n",
       "min   -7.421500e+04 -5.359436e+04\n",
       "25%    1.000000e+00  1.250000e+00\n",
       "50%    3.000000e+00  2.100000e+00\n",
       "75%    1.000000e+01  4.150000e+00\n",
       "max    7.421500e+04  3.897000e+04"
      ]
     },
     "execution_count": 15,
     "metadata": {},
     "output_type": "execute_result"
    }
   ],
   "source": [
    "df.describe()"
   ]
  },
  {
   "cell_type": "code",
   "execution_count": 16,
   "metadata": {
    "execution": {
     "iopub.execute_input": "2021-09-25T14:45:03.846067Z",
     "iopub.status.busy": "2021-09-25T14:45:03.845817Z",
     "iopub.status.idle": "2021-09-25T14:45:03.861517Z",
     "shell.execute_reply": "2021-09-25T14:45:03.860248Z",
     "shell.execute_reply.started": "2021-09-25T14:45:03.846035Z"
    },
    "id": "h_ykJpdjU6Ea"
   },
   "outputs": [],
   "source": [
    "df[\"Quantity\"][df[\"Quantity\"]<0]=0"
   ]
  },
  {
   "cell_type": "code",
   "execution_count": 17,
   "metadata": {
    "execution": {
     "iopub.execute_input": "2021-09-25T14:45:03.863856Z",
     "iopub.status.busy": "2021-09-25T14:45:03.863014Z",
     "iopub.status.idle": "2021-09-25T14:45:03.872646Z",
     "shell.execute_reply": "2021-09-25T14:45:03.871462Z",
     "shell.execute_reply.started": "2021-09-25T14:45:03.863803Z"
    },
    "id": "jTfKPVsKYCOw",
    "outputId": "da36a521-10c8-4032-b53c-aa1f9be6db80"
   },
   "outputs": [
    {
     "data": {
      "text/plain": [
       "0"
      ]
     },
     "execution_count": 17,
     "metadata": {},
     "output_type": "execute_result"
    }
   ],
   "source": [
    "df[\"Quantity\"].iloc[178]"
   ]
  },
  {
   "cell_type": "markdown",
   "metadata": {
    "id": "ps7dGNYFpU11"
   },
   "source": [
    "**MISSING VALUES**"
   ]
  },
  {
   "cell_type": "code",
   "execution_count": 18,
   "metadata": {
    "execution": {
     "iopub.execute_input": "2021-09-25T14:45:03.874725Z",
     "iopub.status.busy": "2021-09-25T14:45:03.874227Z",
     "iopub.status.idle": "2021-09-25T14:45:04.921508Z",
     "shell.execute_reply": "2021-09-25T14:45:04.920638Z",
     "shell.execute_reply.started": "2021-09-25T14:45:03.874684Z"
    },
    "id": "YKfvPnR5T7Uf",
    "outputId": "314b49af-139f-437e-9940-67f78dcab33f"
   },
   "outputs": [
    {
     "data": {
      "text/plain": [
       "Description      4372\n",
       "Customer ID    236682\n",
       "dtype: int64"
      ]
     },
     "execution_count": 18,
     "metadata": {},
     "output_type": "execute_result"
    }
   ],
   "source": [
    "Missing=df.isnull().sum()[df.isnull().sum()>0]\n",
    "Missing"
   ]
  },
  {
   "cell_type": "code",
   "execution_count": 19,
   "metadata": {
    "execution": {
     "iopub.execute_input": "2021-09-25T14:45:04.923512Z",
     "iopub.status.busy": "2021-09-25T14:45:04.922921Z",
     "iopub.status.idle": "2021-09-25T14:45:04.932910Z",
     "shell.execute_reply": "2021-09-25T14:45:04.931725Z",
     "shell.execute_reply.started": "2021-09-25T14:45:04.923470Z"
    },
    "id": "-0QRuUGhl02j",
    "outputId": "161f8ce5-9f5e-4d3c-9660-313810769613"
   },
   "outputs": [
    {
     "data": {
      "text/plain": [
       "Description     0.416947\n",
       "Customer ID    22.571776\n",
       "dtype: float64"
      ]
     },
     "execution_count": 19,
     "metadata": {},
     "output_type": "execute_result"
    }
   ],
   "source": [
    "percent_missing=(Missing/df.shape[0])*100\n",
    "percent_missing"
   ]
  },
  {
   "cell_type": "markdown",
   "metadata": {
    "id": "KZd-737-nux8"
   },
   "source": [
    " **0% 22% OF MISSING VALUES SO DROP ROWS**"
   ]
  },
  {
   "cell_type": "code",
   "execution_count": 20,
   "metadata": {
    "execution": {
     "iopub.execute_input": "2021-09-25T14:45:04.934759Z",
     "iopub.status.busy": "2021-09-25T14:45:04.934397Z",
     "iopub.status.idle": "2021-09-25T14:45:05.261456Z",
     "shell.execute_reply": "2021-09-25T14:45:05.260603Z",
     "shell.execute_reply.started": "2021-09-25T14:45:04.934721Z"
    },
    "id": "KdEORM0owORX"
   },
   "outputs": [],
   "source": [
    "df=df.dropna(subset=[\"Description\",\"Customer ID\"],axis=0)"
   ]
  },
  {
   "cell_type": "code",
   "execution_count": 21,
   "metadata": {
    "execution": {
     "iopub.execute_input": "2021-09-25T14:45:05.263874Z",
     "iopub.status.busy": "2021-09-25T14:45:05.263054Z",
     "iopub.status.idle": "2021-09-25T14:45:05.271517Z",
     "shell.execute_reply": "2021-09-25T14:45:05.270478Z",
     "shell.execute_reply.started": "2021-09-25T14:45:05.263825Z"
    },
    "id": "uSk5Vv7qn6wY",
    "outputId": "4e626f52-d204-45e8-d72a-e1ecb8852263"
   },
   "outputs": [
    {
     "data": {
      "text/plain": [
       "(811893, 8)"
      ]
     },
     "execution_count": 21,
     "metadata": {},
     "output_type": "execute_result"
    }
   ],
   "source": [
    "df.shape"
   ]
  },
  {
   "cell_type": "code",
   "execution_count": 22,
   "metadata": {
    "execution": {
     "iopub.execute_input": "2021-09-25T14:45:05.274083Z",
     "iopub.status.busy": "2021-09-25T14:45:05.273454Z",
     "iopub.status.idle": "2021-09-25T14:45:05.690172Z",
     "shell.execute_reply": "2021-09-25T14:45:05.689181Z",
     "shell.execute_reply.started": "2021-09-25T14:45:05.274035Z"
    },
    "id": "gQXVPgSyoFs2",
    "outputId": "4d17d524-afb0-4eda-e012-d50fa774498f"
   },
   "outputs": [
    {
     "data": {
      "text/plain": [
       "Invoice        0\n",
       "StockCode      0\n",
       "Description    0\n",
       "Quantity       0\n",
       "InvoiceDate    0\n",
       "Price          0\n",
       "Customer ID    0\n",
       "Country        0\n",
       "dtype: int64"
      ]
     },
     "execution_count": 22,
     "metadata": {},
     "output_type": "execute_result"
    }
   ],
   "source": [
    "df.isnull().sum()"
   ]
  },
  {
   "cell_type": "code",
   "execution_count": 23,
   "metadata": {
    "execution": {
     "iopub.execute_input": "2021-09-25T14:45:05.692227Z",
     "iopub.status.busy": "2021-09-25T14:45:05.691902Z",
     "iopub.status.idle": "2021-09-25T14:45:11.930829Z",
     "shell.execute_reply": "2021-09-25T14:45:11.929811Z",
     "shell.execute_reply.started": "2021-09-25T14:45:05.692184Z"
    },
    "id": "9iB1IQc8p8QY",
    "outputId": "1918a99f-0db1-4956-d87c-95390ddb9993"
   },
   "outputs": [
    {
     "data": {
      "image/png": "[encoded data removed]",
      "text/plain": [
       "<Figure size 720x360 with 1 Axes>"
      ]
     },
     "metadata": {
      "needs_background": "light"
     },
     "output_type": "display_data"
    }
   ],
   "source": [
    "sns.heatmap(df.isnull(),cbar=False)\n",
    "plt.show()"
   ]
  },
  {
   "cell_type": "markdown",
   "metadata": {
    "id": "Ir0HJnC7qeZ7"
   },
   "source": [
    "**NUMERICAL COLUMNS**"
   ]
  },
  {
   "cell_type": "code",
   "execution_count": 24,
   "metadata": {
    "execution": {
     "iopub.execute_input": "2021-09-25T14:45:11.932507Z",
     "iopub.status.busy": "2021-09-25T14:45:11.932238Z",
     "iopub.status.idle": "2021-09-25T14:45:11.948198Z",
     "shell.execute_reply": "2021-09-25T14:45:11.946869Z",
     "shell.execute_reply.started": "2021-09-25T14:45:11.932477Z"
    },
    "id": "wsdPWWylqhv8",
    "outputId": "fefa7aa4-c453-48ab-cc7e-ada4edc9b1cb"
   },
   "outputs": [
    {
     "data": {
      "text/plain": [
       "Index(['Quantity', 'Price'], dtype='object')"
      ]
     },
     "execution_count": 24,
     "metadata": {},
     "output_type": "execute_result"
    }
   ],
   "source": [
    "num_features=df.select_dtypes(include=\"number\")\n",
    "num_features.columns"
   ]
  },
  {
   "cell_type": "markdown",
   "metadata": {
    "id": "IBRalPhTqswM"
   },
   "source": [
    "**CATEGORICAL COLUMNS**"
   ]
  },
  {
   "cell_type": "code",
   "execution_count": 25,
   "metadata": {
    "execution": {
     "iopub.execute_input": "2021-09-25T14:45:11.950475Z",
     "iopub.status.busy": "2021-09-25T14:45:11.950079Z",
     "iopub.status.idle": "2021-09-25T14:45:12.021668Z",
     "shell.execute_reply": "2021-09-25T14:45:12.020232Z",
     "shell.execute_reply.started": "2021-09-25T14:45:11.950427Z"
    },
    "id": "I9eVPyEIqs-_",
    "outputId": "8377d3c8-8a6e-4a48-8324-e12a8b85b775"
   },
   "outputs": [
    {
     "data": {
      "text/plain": [
       "Index(['Invoice', 'StockCode', 'Description', 'InvoiceDate', 'Customer ID',\n",
       "       'Country'],\n",
       "      dtype='object')"
      ]
     },
     "execution_count": 25,
     "metadata": {},
     "output_type": "execute_result"
    }
   ],
   "source": [
    "cat_features=df.select_dtypes(exclude=\"number\")\n",
    "cat_features.columns"
   ]
  },
  {
   "cell_type": "code",
   "execution_count": 26,
   "metadata": {
    "execution": {
     "iopub.execute_input": "2021-09-25T14:45:12.023853Z",
     "iopub.status.busy": "2021-09-25T14:45:12.023418Z",
     "iopub.status.idle": "2021-09-25T14:45:12.661170Z",
     "shell.execute_reply": "2021-09-25T14:45:12.660612Z",
     "shell.execute_reply.started": "2021-09-25T14:45:12.023806Z"
    },
    "id": "2dwtU8KHqP0F",
    "outputId": "5c87c485-627d-4dbc-8886-23d01b134e4f"
   },
   "outputs": [
    {
     "data": {
      "image/png": "[encoded data removed]",
      "text/plain": [
       "<Figure size 720x360 with 1 Axes>"
      ]
     },
     "metadata": {
      "needs_background": "light"
     },
     "output_type": "display_data"
    },
    {
     "data": {
      "image/png": "[encoded data removed]",
      "text/plain": [
       "<Figure size 720x360 with 1 Axes>"
      ]
     },
     "metadata": {
      "needs_background": "light"
     },
     "output_type": "display_data"
    }
   ],
   "source": [
    "for i in num_features.columns:\n",
    "    sns.boxplot(df[i])\n",
    "    plt.show()"
   ]
  },
  {
   "cell_type": "markdown",
   "metadata": {
    "id": "B7C01j_gw34-"
   },
   "source": [
    "# Monetary Value: How much money a customer spends on purchases. \n",
    "# so it is based on amount so multipluing price and quantity"
   ]
  },
  {
   "cell_type": "code",
   "execution_count": 27,
   "metadata": {
    "execution": {
     "iopub.execute_input": "2021-09-25T14:45:12.663093Z",
     "iopub.status.busy": "2021-09-25T14:45:12.662789Z",
     "iopub.status.idle": "2021-09-25T14:45:12.675780Z",
     "shell.execute_reply": "2021-09-25T14:45:12.674780Z",
     "shell.execute_reply.started": "2021-09-25T14:45:12.663063Z"
    },
    "id": "I5frfym2qP3M"
   },
   "outputs": [],
   "source": [
    "df[\"Amount\"]=df[\"Price\"]*df[\"Quantity\"]"
   ]
  },
  {
   "cell_type": "code",
   "execution_count": 28,
   "metadata": {
    "execution": {
     "iopub.execute_input": "2021-09-25T14:45:12.683121Z",
     "iopub.status.busy": "2021-09-25T14:45:12.682066Z",
     "iopub.status.idle": "2021-09-25T14:45:12.692752Z",
     "shell.execute_reply": "2021-09-25T14:45:12.691533Z",
     "shell.execute_reply.started": "2021-09-25T14:45:12.683071Z"
    },
    "id": "ircNszq3qP57",
    "outputId": "58d911cd-cfe7-4279-8029-857bab502488"
   },
   "outputs": [
    {
     "data": {
      "text/plain": [
       "0           83.40\n",
       "1           81.00\n",
       "2           81.00\n",
       "3          100.80\n",
       "4           30.00\n",
       "            ...  \n",
       "1048570     16.50\n",
       "1048571     14.85\n",
       "1048572      4.95\n",
       "1048573      5.78\n",
       "1048574      6.65\n",
       "Name: Amount, Length: 811893, dtype: float64"
      ]
     },
     "execution_count": 28,
     "metadata": {},
     "output_type": "execute_result"
    }
   ],
   "source": [
    "df[\"Amount\"]"
   ]
  },
  {
   "cell_type": "code",
   "execution_count": 29,
   "metadata": {
    "execution": {
     "iopub.execute_input": "2021-09-25T14:45:12.694578Z",
     "iopub.status.busy": "2021-09-25T14:45:12.694269Z",
     "iopub.status.idle": "2021-09-25T14:45:12.858109Z",
     "shell.execute_reply": "2021-09-25T14:45:12.857340Z",
     "shell.execute_reply.started": "2021-09-25T14:45:12.694545Z"
    },
    "id": "JiN3xAEzqP8w"
   },
   "outputs": [],
   "source": [
    "monetary=df.groupby([\"Customer ID\"])[\"Amount\"].sum()"
   ]
  },
  {
   "cell_type": "code",
   "execution_count": 30,
   "metadata": {
    "execution": {
     "iopub.execute_input": "2021-09-25T14:45:12.860215Z",
     "iopub.status.busy": "2021-09-25T14:45:12.859184Z",
     "iopub.status.idle": "2021-09-25T14:45:12.869243Z",
     "shell.execute_reply": "2021-09-25T14:45:12.868299Z",
     "shell.execute_reply.started": "2021-09-25T14:45:12.860179Z"
    },
    "id": "a1W2e7eidkTp",
    "outputId": "fe6216ac-bc1b-4fb1-8117-62465cad880a"
   },
   "outputs": [
    {
     "data": {
      "text/plain": [
       "Customer ID\n",
       "12346.0    77556.46\n",
       "12347.0     5408.50\n",
       "12348.0     2019.40\n",
       "12349.0     4428.69\n",
       "12350.0      334.40\n",
       "             ...   \n",
       "18283.0     2528.65\n",
       "18284.0      461.68\n",
       "18285.0      427.00\n",
       "18286.0     1296.43\n",
       "18287.0     4182.99\n",
       "Name: Amount, Length: 5924, dtype: float64"
      ]
     },
     "execution_count": 30,
     "metadata": {},
     "output_type": "execute_result"
    }
   ],
   "source": [
    "monetary"
   ]
  },
  {
   "cell_type": "markdown",
   "metadata": {
    "id": "EgmRxvqfdJ4J"
   },
   "source": [
    "# Frequency: How often a customer makes a purchase."
   ]
  },
  {
   "cell_type": "code",
   "execution_count": 31,
   "metadata": {
    "execution": {
     "iopub.execute_input": "2021-09-25T14:45:12.871292Z",
     "iopub.status.busy": "2021-09-25T14:45:12.871040Z",
     "iopub.status.idle": "2021-09-25T14:45:13.113996Z",
     "shell.execute_reply": "2021-09-25T14:45:13.113038Z",
     "shell.execute_reply.started": "2021-09-25T14:45:12.871265Z"
    },
    "id": "3EZCADFddJdb"
   },
   "outputs": [],
   "source": [
    "frequency=df.groupby([\"Customer ID\"])[\"Description\"].count()"
   ]
  },
  {
   "cell_type": "code",
   "execution_count": 32,
   "metadata": {
    "execution": {
     "iopub.execute_input": "2021-09-25T14:45:13.115673Z",
     "iopub.status.busy": "2021-09-25T14:45:13.115346Z",
     "iopub.status.idle": "2021-09-25T14:45:13.125384Z",
     "shell.execute_reply": "2021-09-25T14:45:13.124245Z",
     "shell.execute_reply.started": "2021-09-25T14:45:13.115643Z"
    },
    "id": "ucm1gxItqQCT",
    "outputId": "eea33f74-9eab-4e40-e33e-d9d27ec9073a"
   },
   "outputs": [
    {
     "data": {
      "text/plain": [
       "Customer ID\n",
       "12346.0     48\n",
       "12347.0    242\n",
       "12348.0     51\n",
       "12349.0    180\n",
       "12350.0     17\n",
       "          ... \n",
       "18283.0    936\n",
       "18284.0     29\n",
       "18285.0     12\n",
       "18286.0     70\n",
       "18287.0    156\n",
       "Name: Description, Length: 5924, dtype: int64"
      ]
     },
     "execution_count": 32,
     "metadata": {},
     "output_type": "execute_result"
    }
   ],
   "source": [
    "frequency"
   ]
  },
  {
   "cell_type": "markdown",
   "metadata": {
    "id": "uVHRK6XGeU5-"
   },
   "source": [
    "# Combine monetary ,frequency with customer id"
   ]
  },
  {
   "cell_type": "code",
   "execution_count": 33,
   "metadata": {
    "execution": {
     "iopub.execute_input": "2021-09-25T14:45:13.127721Z",
     "iopub.status.busy": "2021-09-25T14:45:13.127394Z",
     "iopub.status.idle": "2021-09-25T14:45:13.164081Z",
     "shell.execute_reply": "2021-09-25T14:45:13.163324Z",
     "shell.execute_reply.started": "2021-09-25T14:45:13.127682Z"
    },
    "id": "pzEfKlGFeN8m",
    "outputId": "c21978b6-95db-40f4-f0d9-9692c9cf0965"
   },
   "outputs": [
    {
     "data": {
      "text/html": [
       "<div>\n",
       "<style scoped>\n",
       "    .dataframe tbody tr th:only-of-type {\n",
       "        vertical-align: middle;\n",
       "    }\n",
       "\n",
       "    .dataframe tbody tr th {\n",
       "        vertical-align: top;\n",
       "    }\n",
       "\n",
       "    .dataframe thead th {\n",
       "        text-align: right;\n",
       "    }\n",
       "</style>\n",
       "<table border=\"1\" class=\"dataframe\">\n",
       "  <thead>\n",
       "    <tr style=\"text-align: right;\">\n",
       "      <th></th>\n",
       "      <th>Customer ID</th>\n",
       "      <th>Monetary</th>\n",
       "      <th>Frequency</th>\n",
       "    </tr>\n",
       "  </thead>\n",
       "  <tbody>\n",
       "    <tr>\n",
       "      <th>0</th>\n",
       "      <td>12346.0</td>\n",
       "      <td>77556.46</td>\n",
       "      <td>48</td>\n",
       "    </tr>\n",
       "    <tr>\n",
       "      <th>1</th>\n",
       "      <td>12347.0</td>\n",
       "      <td>5408.50</td>\n",
       "      <td>242</td>\n",
       "    </tr>\n",
       "    <tr>\n",
       "      <th>2</th>\n",
       "      <td>12348.0</td>\n",
       "      <td>2019.40</td>\n",
       "      <td>51</td>\n",
       "    </tr>\n",
       "    <tr>\n",
       "      <th>3</th>\n",
       "      <td>12349.0</td>\n",
       "      <td>4428.69</td>\n",
       "      <td>180</td>\n",
       "    </tr>\n",
       "    <tr>\n",
       "      <th>4</th>\n",
       "      <td>12350.0</td>\n",
       "      <td>334.40</td>\n",
       "      <td>17</td>\n",
       "    </tr>\n",
       "  </tbody>\n",
       "</table>\n",
       "</div>"
      ],
      "text/plain": [
       "   Customer ID  Monetary  Frequency\n",
       "0      12346.0  77556.46         48\n",
       "1      12347.0   5408.50        242\n",
       "2      12348.0   2019.40         51\n",
       "3      12349.0   4428.69        180\n",
       "4      12350.0    334.40         17"
      ]
     },
     "execution_count": 33,
     "metadata": {},
     "output_type": "execute_result"
    }
   ],
   "source": [
    "df1=pd.merge(monetary,frequency,how=\"inner\",on=\"Customer ID\")\n",
    "df1=df1.reset_index()\n",
    "df1.columns=[\"Customer ID\",\"Monetary\",\"Frequency\"]\n",
    "df1.head()"
   ]
  },
  {
   "cell_type": "markdown",
   "metadata": {
    "id": "wmSjgdvkfCD5"
   },
   "source": [
    "# Recency: How recently a customer has made a purchase. "
   ]
  },
  {
   "cell_type": "code",
   "execution_count": 34,
   "metadata": {
    "execution": {
     "iopub.execute_input": "2021-09-25T14:45:13.165813Z",
     "iopub.status.busy": "2021-09-25T14:45:13.165565Z",
     "iopub.status.idle": "2021-09-25T14:45:13.209852Z",
     "shell.execute_reply": "2021-09-25T14:45:13.208849Z",
     "shell.execute_reply.started": "2021-09-25T14:45:13.165784Z"
    },
    "id": "_rxSRx8ZdHLh",
    "outputId": "146f4fb8-5e40-4a5d-ab7f-3e27e8d510c0"
   },
   "outputs": [
    {
     "data": {
      "text/html": [
       "<div>\n",
       "<style scoped>\n",
       "    .dataframe tbody tr th:only-of-type {\n",
       "        vertical-align: middle;\n",
       "    }\n",
       "\n",
       "    .dataframe tbody tr th {\n",
       "        vertical-align: top;\n",
       "    }\n",
       "\n",
       "    .dataframe thead th {\n",
       "        text-align: right;\n",
       "    }\n",
       "</style>\n",
       "<table border=\"1\" class=\"dataframe\">\n",
       "  <thead>\n",
       "    <tr style=\"text-align: right;\">\n",
       "      <th></th>\n",
       "      <th>Customer ID</th>\n",
       "      <th>InvoiceDate</th>\n",
       "    </tr>\n",
       "  </thead>\n",
       "  <tbody>\n",
       "    <tr>\n",
       "      <th>0</th>\n",
       "      <td>13085.0</td>\n",
       "      <td>2009-01-12 07:45:00</td>\n",
       "    </tr>\n",
       "    <tr>\n",
       "      <th>1</th>\n",
       "      <td>13085.0</td>\n",
       "      <td>2009-01-12 07:45:00</td>\n",
       "    </tr>\n",
       "    <tr>\n",
       "      <th>2</th>\n",
       "      <td>13085.0</td>\n",
       "      <td>2009-01-12 07:45:00</td>\n",
       "    </tr>\n",
       "    <tr>\n",
       "      <th>3</th>\n",
       "      <td>13085.0</td>\n",
       "      <td>2009-01-12 07:45:00</td>\n",
       "    </tr>\n",
       "    <tr>\n",
       "      <th>4</th>\n",
       "      <td>13085.0</td>\n",
       "      <td>2009-01-12 07:45:00</td>\n",
       "    </tr>\n",
       "    <tr>\n",
       "      <th>...</th>\n",
       "      <td>...</td>\n",
       "      <td>...</td>\n",
       "    </tr>\n",
       "    <tr>\n",
       "      <th>1048570</th>\n",
       "      <td>14546.0</td>\n",
       "      <td>2011-04-12 13:00:00</td>\n",
       "    </tr>\n",
       "    <tr>\n",
       "      <th>1048571</th>\n",
       "      <td>14546.0</td>\n",
       "      <td>2011-04-12 13:00:00</td>\n",
       "    </tr>\n",
       "    <tr>\n",
       "      <th>1048572</th>\n",
       "      <td>16931.0</td>\n",
       "      <td>2011-04-12 13:15:00</td>\n",
       "    </tr>\n",
       "    <tr>\n",
       "      <th>1048573</th>\n",
       "      <td>16931.0</td>\n",
       "      <td>2011-04-12 13:15:00</td>\n",
       "    </tr>\n",
       "    <tr>\n",
       "      <th>1048574</th>\n",
       "      <td>16931.0</td>\n",
       "      <td>2011-04-12 13:15:00</td>\n",
       "    </tr>\n",
       "  </tbody>\n",
       "</table>\n",
       "<p>811893 rows × 2 columns</p>\n",
       "</div>"
      ],
      "text/plain": [
       "        Customer ID         InvoiceDate\n",
       "0           13085.0 2009-01-12 07:45:00\n",
       "1           13085.0 2009-01-12 07:45:00\n",
       "2           13085.0 2009-01-12 07:45:00\n",
       "3           13085.0 2009-01-12 07:45:00\n",
       "4           13085.0 2009-01-12 07:45:00\n",
       "...             ...                 ...\n",
       "1048570     14546.0 2011-04-12 13:00:00\n",
       "1048571     14546.0 2011-04-12 13:00:00\n",
       "1048572     16931.0 2011-04-12 13:15:00\n",
       "1048573     16931.0 2011-04-12 13:15:00\n",
       "1048574     16931.0 2011-04-12 13:15:00\n",
       "\n",
       "[811893 rows x 2 columns]"
      ]
     },
     "execution_count": 34,
     "metadata": {},
     "output_type": "execute_result"
    }
   ],
   "source": [
    "recency=df[[\"Customer ID\",\"InvoiceDate\"]]\n",
    "recency"
   ]
  },
  {
   "cell_type": "markdown",
   "metadata": {
    "id": "tGxuYqy2RJtq"
   },
   "source": [
    "# Recency "
   ]
  },
  {
   "cell_type": "code",
   "execution_count": 35,
   "metadata": {
    "execution": {
     "iopub.execute_input": "2021-09-25T14:45:13.212662Z",
     "iopub.status.busy": "2021-09-25T14:45:13.212388Z",
     "iopub.status.idle": "2021-09-25T14:45:13.225004Z",
     "shell.execute_reply": "2021-09-25T14:45:13.224054Z",
     "shell.execute_reply.started": "2021-09-25T14:45:13.212631Z"
    },
    "id": "CE69YOeCqQX7",
    "outputId": "1c9ede35-0d32-4e84-e587-74b572900537"
   },
   "outputs": [
    {
     "data": {
      "text/plain": [
       "Timestamp('2011-12-10 17:19:00')"
      ]
     },
     "execution_count": 35,
     "metadata": {},
     "output_type": "execute_result"
    }
   ],
   "source": [
    "maximum=recency[\"InvoiceDate\"].max()\n",
    "maximum"
   ]
  },
  {
   "cell_type": "code",
   "execution_count": 36,
   "metadata": {
    "execution": {
     "iopub.execute_input": "2021-09-25T14:45:13.226746Z",
     "iopub.status.busy": "2021-09-25T14:45:13.226507Z",
     "iopub.status.idle": "2021-09-25T14:45:13.237217Z",
     "shell.execute_reply": "2021-09-25T14:45:13.235914Z",
     "shell.execute_reply.started": "2021-09-25T14:45:13.226718Z"
    },
    "id": "UQx36XFEqQer",
    "outputId": "55fd3fdf-a15f-457c-a8cb-af2e034b7fad"
   },
   "outputs": [
    {
     "data": {
      "text/plain": [
       "Timestamp('2011-12-11 17:19:00')"
      ]
     },
     "execution_count": 36,
     "metadata": {},
     "output_type": "execute_result"
    }
   ],
   "source": [
    "maximum=maximum+pd.DateOffset(days=1)\n",
    "maximum"
   ]
  },
  {
   "cell_type": "code",
   "execution_count": 37,
   "metadata": {
    "execution": {
     "iopub.execute_input": "2021-09-25T14:45:13.238967Z",
     "iopub.status.busy": "2021-09-25T14:45:13.238697Z",
     "iopub.status.idle": "2021-09-25T14:45:13.275498Z",
     "shell.execute_reply": "2021-09-25T14:45:13.274432Z",
     "shell.execute_reply.started": "2021-09-25T14:45:13.238937Z"
    },
    "id": "kezxZLlQqQhs",
    "outputId": "74c6a612-17b6-420c-afab-8e643fe183dd"
   },
   "outputs": [
    {
     "data": {
      "text/html": [
       "<div>\n",
       "<style scoped>\n",
       "    .dataframe tbody tr th:only-of-type {\n",
       "        vertical-align: middle;\n",
       "    }\n",
       "\n",
       "    .dataframe tbody tr th {\n",
       "        vertical-align: top;\n",
       "    }\n",
       "\n",
       "    .dataframe thead th {\n",
       "        text-align: right;\n",
       "    }\n",
       "</style>\n",
       "<table border=\"1\" class=\"dataframe\">\n",
       "  <thead>\n",
       "    <tr style=\"text-align: right;\">\n",
       "      <th></th>\n",
       "      <th>Customer ID</th>\n",
       "      <th>InvoiceDate</th>\n",
       "      <th>diff</th>\n",
       "    </tr>\n",
       "  </thead>\n",
       "  <tbody>\n",
       "    <tr>\n",
       "      <th>0</th>\n",
       "      <td>13085.0</td>\n",
       "      <td>2009-01-12 07:45:00</td>\n",
       "      <td>1063 days 09:34:00</td>\n",
       "    </tr>\n",
       "    <tr>\n",
       "      <th>1</th>\n",
       "      <td>13085.0</td>\n",
       "      <td>2009-01-12 07:45:00</td>\n",
       "      <td>1063 days 09:34:00</td>\n",
       "    </tr>\n",
       "    <tr>\n",
       "      <th>2</th>\n",
       "      <td>13085.0</td>\n",
       "      <td>2009-01-12 07:45:00</td>\n",
       "      <td>1063 days 09:34:00</td>\n",
       "    </tr>\n",
       "    <tr>\n",
       "      <th>3</th>\n",
       "      <td>13085.0</td>\n",
       "      <td>2009-01-12 07:45:00</td>\n",
       "      <td>1063 days 09:34:00</td>\n",
       "    </tr>\n",
       "    <tr>\n",
       "      <th>4</th>\n",
       "      <td>13085.0</td>\n",
       "      <td>2009-01-12 07:45:00</td>\n",
       "      <td>1063 days 09:34:00</td>\n",
       "    </tr>\n",
       "  </tbody>\n",
       "</table>\n",
       "</div>"
      ],
      "text/plain": [
       "  Customer ID         InvoiceDate               diff\n",
       "0     13085.0 2009-01-12 07:45:00 1063 days 09:34:00\n",
       "1     13085.0 2009-01-12 07:45:00 1063 days 09:34:00\n",
       "2     13085.0 2009-01-12 07:45:00 1063 days 09:34:00\n",
       "3     13085.0 2009-01-12 07:45:00 1063 days 09:34:00\n",
       "4     13085.0 2009-01-12 07:45:00 1063 days 09:34:00"
      ]
     },
     "execution_count": 37,
     "metadata": {},
     "output_type": "execute_result"
    }
   ],
   "source": [
    "recency['diff']=maximum-recency.InvoiceDate\n",
    "recency.head()"
   ]
  },
  {
   "cell_type": "code",
   "execution_count": 38,
   "metadata": {
    "execution": {
     "iopub.execute_input": "2021-09-25T14:45:13.277275Z",
     "iopub.status.busy": "2021-09-25T14:45:13.277013Z",
     "iopub.status.idle": "2021-09-25T14:45:13.450266Z",
     "shell.execute_reply": "2021-09-25T14:45:13.449243Z",
     "shell.execute_reply.started": "2021-09-25T14:45:13.277246Z"
    },
    "id": "AZ8eg2-DqQnb",
    "outputId": "14cdf3d5-e82a-40ca-fe20-7bf07ff00830"
   },
   "outputs": [
    {
     "data": {
      "text/html": [
       "<div>\n",
       "<style scoped>\n",
       "    .dataframe tbody tr th:only-of-type {\n",
       "        vertical-align: middle;\n",
       "    }\n",
       "\n",
       "    .dataframe tbody tr th {\n",
       "        vertical-align: top;\n",
       "    }\n",
       "\n",
       "    .dataframe thead th {\n",
       "        text-align: right;\n",
       "    }\n",
       "</style>\n",
       "<table border=\"1\" class=\"dataframe\">\n",
       "  <thead>\n",
       "    <tr style=\"text-align: right;\">\n",
       "      <th></th>\n",
       "      <th>Customer ID</th>\n",
       "      <th>Recency</th>\n",
       "    </tr>\n",
       "  </thead>\n",
       "  <tbody>\n",
       "    <tr>\n",
       "      <th>0</th>\n",
       "      <td>12346.0</td>\n",
       "      <td>327 days 07:02:00</td>\n",
       "    </tr>\n",
       "    <tr>\n",
       "      <th>1</th>\n",
       "      <td>12347.0</td>\n",
       "      <td>41 days 04:54:00</td>\n",
       "    </tr>\n",
       "    <tr>\n",
       "      <th>2</th>\n",
       "      <td>12348.0</td>\n",
       "      <td>77 days 04:06:00</td>\n",
       "    </tr>\n",
       "    <tr>\n",
       "      <th>3</th>\n",
       "      <td>12349.0</td>\n",
       "      <td>20 days 07:28:00</td>\n",
       "    </tr>\n",
       "    <tr>\n",
       "      <th>4</th>\n",
       "      <td>12350.0</td>\n",
       "      <td>312 days 01:18:00</td>\n",
       "    </tr>\n",
       "  </tbody>\n",
       "</table>\n",
       "</div>"
      ],
      "text/plain": [
       "   Customer ID           Recency\n",
       "0      12346.0 327 days 07:02:00\n",
       "1      12347.0  41 days 04:54:00\n",
       "2      12348.0  77 days 04:06:00\n",
       "3      12349.0  20 days 07:28:00\n",
       "4      12350.0 312 days 01:18:00"
      ]
     },
     "execution_count": 38,
     "metadata": {},
     "output_type": "execute_result"
    }
   ],
   "source": [
    "df2=pd.DataFrame(recency.groupby(\"Customer ID\")[\"diff\"].min())\n",
    "df2=df2.reset_index()\n",
    "df2.columns=[\"Customer ID\",\"Recency\"]\n",
    "df2.head()"
   ]
  },
  {
   "cell_type": "markdown",
   "metadata": {
    "id": "KkU5DHFaRjj1"
   },
   "source": [
    "# RFM"
   ]
  },
  {
   "cell_type": "code",
   "execution_count": 39,
   "metadata": {
    "execution": {
     "iopub.execute_input": "2021-09-25T14:45:13.452515Z",
     "iopub.status.busy": "2021-09-25T14:45:13.452144Z",
     "iopub.status.idle": "2021-09-25T14:45:13.481877Z",
     "shell.execute_reply": "2021-09-25T14:45:13.480795Z",
     "shell.execute_reply.started": "2021-09-25T14:45:13.452470Z"
    },
    "id": "yiJsLt6URV86",
    "outputId": "6511506f-d5b9-491e-ebd2-232d638b53fe"
   },
   "outputs": [
    {
     "data": {
      "text/html": [
       "<div>\n",
       "<style scoped>\n",
       "    .dataframe tbody tr th:only-of-type {\n",
       "        vertical-align: middle;\n",
       "    }\n",
       "\n",
       "    .dataframe tbody tr th {\n",
       "        vertical-align: top;\n",
       "    }\n",
       "\n",
       "    .dataframe thead th {\n",
       "        text-align: right;\n",
       "    }\n",
       "</style>\n",
       "<table border=\"1\" class=\"dataframe\">\n",
       "  <thead>\n",
       "    <tr style=\"text-align: right;\">\n",
       "      <th></th>\n",
       "      <th>Customer ID</th>\n",
       "      <th>Monetary</th>\n",
       "      <th>Frequency</th>\n",
       "      <th>Recency</th>\n",
       "    </tr>\n",
       "  </thead>\n",
       "  <tbody>\n",
       "    <tr>\n",
       "      <th>0</th>\n",
       "      <td>12346.0</td>\n",
       "      <td>77556.46</td>\n",
       "      <td>48</td>\n",
       "      <td>327 days 07:02:00</td>\n",
       "    </tr>\n",
       "    <tr>\n",
       "      <th>1</th>\n",
       "      <td>12347.0</td>\n",
       "      <td>5408.50</td>\n",
       "      <td>242</td>\n",
       "      <td>41 days 04:54:00</td>\n",
       "    </tr>\n",
       "    <tr>\n",
       "      <th>2</th>\n",
       "      <td>12348.0</td>\n",
       "      <td>2019.40</td>\n",
       "      <td>51</td>\n",
       "      <td>77 days 04:06:00</td>\n",
       "    </tr>\n",
       "    <tr>\n",
       "      <th>3</th>\n",
       "      <td>12349.0</td>\n",
       "      <td>4428.69</td>\n",
       "      <td>180</td>\n",
       "      <td>20 days 07:28:00</td>\n",
       "    </tr>\n",
       "    <tr>\n",
       "      <th>4</th>\n",
       "      <td>12350.0</td>\n",
       "      <td>334.40</td>\n",
       "      <td>17</td>\n",
       "      <td>312 days 01:18:00</td>\n",
       "    </tr>\n",
       "    <tr>\n",
       "      <th>...</th>\n",
       "      <td>...</td>\n",
       "      <td>...</td>\n",
       "      <td>...</td>\n",
       "      <td>...</td>\n",
       "    </tr>\n",
       "    <tr>\n",
       "      <th>5919</th>\n",
       "      <td>18283.0</td>\n",
       "      <td>2528.65</td>\n",
       "      <td>936</td>\n",
       "      <td>11 days 04:20:00</td>\n",
       "    </tr>\n",
       "    <tr>\n",
       "      <th>5920</th>\n",
       "      <td>18284.0</td>\n",
       "      <td>461.68</td>\n",
       "      <td>29</td>\n",
       "      <td>549 days 04:48:00</td>\n",
       "    </tr>\n",
       "    <tr>\n",
       "      <th>5921</th>\n",
       "      <td>18285.0</td>\n",
       "      <td>427.00</td>\n",
       "      <td>12</td>\n",
       "      <td>662 days 06:55:00</td>\n",
       "    </tr>\n",
       "    <tr>\n",
       "      <th>5922</th>\n",
       "      <td>18286.0</td>\n",
       "      <td>1296.43</td>\n",
       "      <td>70</td>\n",
       "      <td>478 days 05:22:00</td>\n",
       "    </tr>\n",
       "    <tr>\n",
       "      <th>5923</th>\n",
       "      <td>18287.0</td>\n",
       "      <td>4182.99</td>\n",
       "      <td>156</td>\n",
       "      <td>1 days 06:56:00</td>\n",
       "    </tr>\n",
       "  </tbody>\n",
       "</table>\n",
       "<p>5924 rows × 4 columns</p>\n",
       "</div>"
      ],
      "text/plain": [
       "      Customer ID  Monetary  Frequency           Recency\n",
       "0         12346.0  77556.46         48 327 days 07:02:00\n",
       "1         12347.0   5408.50        242  41 days 04:54:00\n",
       "2         12348.0   2019.40         51  77 days 04:06:00\n",
       "3         12349.0   4428.69        180  20 days 07:28:00\n",
       "4         12350.0    334.40         17 312 days 01:18:00\n",
       "...           ...       ...        ...               ...\n",
       "5919      18283.0   2528.65        936  11 days 04:20:00\n",
       "5920      18284.0    461.68         29 549 days 04:48:00\n",
       "5921      18285.0    427.00         12 662 days 06:55:00\n",
       "5922      18286.0   1296.43         70 478 days 05:22:00\n",
       "5923      18287.0   4182.99        156   1 days 06:56:00\n",
       "\n",
       "[5924 rows x 4 columns]"
      ]
     },
     "execution_count": 39,
     "metadata": {},
     "output_type": "execute_result"
    }
   ],
   "source": [
    "RFM=pd.merge(df1,df2,how=\"inner\",on=\"Customer ID\")\n",
    "RFM"
   ]
  },
  {
   "cell_type": "code",
   "execution_count": 40,
   "metadata": {
    "execution": {
     "iopub.execute_input": "2021-09-25T14:45:13.483914Z",
     "iopub.status.busy": "2021-09-25T14:45:13.483674Z",
     "iopub.status.idle": "2021-09-25T14:45:14.433538Z",
     "shell.execute_reply": "2021-09-25T14:45:14.432434Z",
     "shell.execute_reply.started": "2021-09-25T14:45:13.483888Z"
    },
    "id": "b9DqHhBdRmTy",
    "outputId": "1ad62417-0e01-42ff-ce0a-fb6d3fbec37a"
   },
   "outputs": [
    {
     "data": {
      "image/png": "[encoded data removed]",
      "text/plain": [
       "<Figure size 864x720 with 3 Axes>"
      ]
     },
     "metadata": {
      "needs_background": "light"
     },
     "output_type": "display_data"
    }
   ],
   "source": [
    "# Plot RFM distributions\n",
    "plt.figure(figsize=(12,10))\n",
    "# Plot distribution of R\n",
    "plt.subplot(3, 1, 1); sns.distplot(RFM['Recency'])\n",
    "# Plot distribution of F\n",
    "plt.subplot(3, 1, 2); sns.distplot(RFM['Frequency'])\n",
    "# Plot distribution of M\n",
    "plt.subplot(3, 1, 3); sns.distplot(RFM['Monetary'])\n",
    "# Show the plot\n",
    "plt.show()"
   ]
  },
  {
   "cell_type": "code",
   "execution_count": 41,
   "metadata": {
    "execution": {
     "iopub.execute_input": "2021-09-25T14:45:14.435197Z",
     "iopub.status.busy": "2021-09-25T14:45:14.434969Z",
     "iopub.status.idle": "2021-09-25T14:45:14.451346Z",
     "shell.execute_reply": "2021-09-25T14:45:14.450204Z",
     "shell.execute_reply.started": "2021-09-25T14:45:14.435171Z"
    },
    "id": "yc72aDqXSVhV",
    "outputId": "7813e4de-0a68-4362-f3d3-661d4534d4b9"
   },
   "outputs": [
    {
     "name": "stdout",
     "output_type": "stream",
     "text": [
      "<class 'pandas.core.frame.DataFrame'>\n",
      "Int64Index: 5924 entries, 0 to 5923\n",
      "Data columns (total 4 columns):\n",
      " #   Column       Non-Null Count  Dtype          \n",
      "---  ------       --------------  -----          \n",
      " 0   Customer ID  5924 non-null   float64        \n",
      " 1   Monetary     5924 non-null   float64        \n",
      " 2   Frequency    5924 non-null   int64          \n",
      " 3   Recency      5924 non-null   timedelta64[ns]\n",
      "dtypes: float64(2), int64(1), timedelta64[ns](1)\n",
      "memory usage: 231.4 KB\n"
     ]
    }
   ],
   "source": [
    "RFM.info()"
   ]
  },
  {
   "cell_type": "code",
   "execution_count": 42,
   "metadata": {
    "execution": {
     "iopub.execute_input": "2021-09-25T14:45:14.453831Z",
     "iopub.status.busy": "2021-09-25T14:45:14.452941Z",
     "iopub.status.idle": "2021-09-25T14:45:14.462009Z",
     "shell.execute_reply": "2021-09-25T14:45:14.460601Z",
     "shell.execute_reply.started": "2021-09-25T14:45:14.453777Z"
    },
    "id": "AMBhJZ2QSVpM"
   },
   "outputs": [],
   "source": [
    "RFM['Recency'] = RFM['Recency']/np.timedelta64(1,'D')"
   ]
  },
  {
   "cell_type": "code",
   "execution_count": 43,
   "metadata": {
    "execution": {
     "iopub.execute_input": "2021-09-25T14:45:14.463773Z",
     "iopub.status.busy": "2021-09-25T14:45:14.463481Z",
     "iopub.status.idle": "2021-09-25T14:45:14.485741Z",
     "shell.execute_reply": "2021-09-25T14:45:14.484811Z",
     "shell.execute_reply.started": "2021-09-25T14:45:14.463730Z"
    },
    "id": "xxs4fL0TSVr7",
    "outputId": "44349886-07d4-4343-a0cd-5b54afedeee3"
   },
   "outputs": [
    {
     "name": "stdout",
     "output_type": "stream",
     "text": [
      "<class 'pandas.core.frame.DataFrame'>\n",
      "Int64Index: 5924 entries, 0 to 5923\n",
      "Data columns (total 4 columns):\n",
      " #   Column       Non-Null Count  Dtype  \n",
      "---  ------       --------------  -----  \n",
      " 0   Customer ID  5924 non-null   float64\n",
      " 1   Monetary     5924 non-null   float64\n",
      " 2   Frequency    5924 non-null   int64  \n",
      " 3   Recency      5924 non-null   float64\n",
      "dtypes: float64(3), int64(1)\n",
      "memory usage: 231.4 KB\n"
     ]
    }
   ],
   "source": [
    "RFM.info()"
   ]
  },
  {
   "cell_type": "markdown",
   "metadata": {
    "id": "TjqaycMhTE6K"
   },
   "source": [
    "# OUTLIER TREATMENT"
   ]
  },
  {
   "cell_type": "code",
   "execution_count": 44,
   "metadata": {
    "execution": {
     "iopub.execute_input": "2021-09-25T14:45:14.487856Z",
     "iopub.status.busy": "2021-09-25T14:45:14.487315Z",
     "iopub.status.idle": "2021-09-25T14:45:15.154618Z",
     "shell.execute_reply": "2021-09-25T14:45:15.153835Z",
     "shell.execute_reply.started": "2021-09-25T14:45:14.487813Z"
    },
    "id": "BkRk6Z4OSVua",
    "outputId": "a8d2f044-fef1-43fe-ba09-5760270ed8ea"
   },
   "outputs": [
    {
     "data": {
      "image/png": "[encoded data removed]",
      "text/plain": [
       "<Figure size 720x360 with 1 Axes>"
      ]
     },
     "metadata": {
      "needs_background": "light"
     },
     "output_type": "display_data"
    },
    {
     "data": {
      "image/png": "[encoded data removed]",
      "text/plain": [
       "<Figure size 720x360 with 1 Axes>"
      ]
     },
     "metadata": {
      "needs_background": "light"
     },
     "output_type": "display_data"
    },
    {
     "data": {
      "image/png": "[encoded data removed]",
      "text/plain": [
       "<Figure size 720x360 with 1 Axes>"
      ]
     },
     "metadata": {
      "needs_background": "light"
     },
     "output_type": "display_data"
    },
    {
     "data": {
      "image/png": "[encoded data removed]",
      "text/plain": [
       "<Figure size 720x360 with 1 Axes>"
      ]
     },
     "metadata": {
      "needs_background": "light"
     },
     "output_type": "display_data"
    }
   ],
   "source": [
    "for i in RFM.columns:\n",
    "    sns.boxplot(RFM[i])\n",
    "    plt.show()"
   ]
  },
  {
   "cell_type": "code",
   "execution_count": 45,
   "metadata": {
    "execution": {
     "iopub.execute_input": "2021-09-25T14:45:15.156331Z",
     "iopub.status.busy": "2021-09-25T14:45:15.155909Z",
     "iopub.status.idle": "2021-09-25T14:45:15.173643Z",
     "shell.execute_reply": "2021-09-25T14:45:15.172574Z",
     "shell.execute_reply.started": "2021-09-25T14:45:15.156300Z"
    },
    "id": "vmxVRqGVSVxf"
   },
   "outputs": [],
   "source": [
    "for i in RFM .columns.drop([\"Customer ID\"]):\n",
    "    q1=RFM [i].quantile(0.25)\n",
    "    q3=RFM [i].quantile(0.75)\n",
    "    iqr=q3-q1\n",
    "    ll=q1-(1.5*iqr)\n",
    "    ul=q3+(1.5*iqr)\n",
    "    RFM=RFM[(RFM[i]>ll)&(RFM [i]<ul)] "
   ]
  },
  {
   "cell_type": "code",
   "execution_count": 46,
   "metadata": {
    "execution": {
     "iopub.execute_input": "2021-09-25T14:45:15.175230Z",
     "iopub.status.busy": "2021-09-25T14:45:15.174974Z",
     "iopub.status.idle": "2021-09-25T14:45:15.838073Z",
     "shell.execute_reply": "2021-09-25T14:45:15.836724Z",
     "shell.execute_reply.started": "2021-09-25T14:45:15.175202Z"
    },
    "id": "AcKtGBPkRmbT",
    "outputId": "ed22cf53-e80b-4173-92cd-8a91c123d146"
   },
   "outputs": [
    {
     "data": {
      "image/png": "[encoded data removed]",
      "text/plain": [
       "<Figure size 720x360 with 1 Axes>"
      ]
     },
     "metadata": {
      "needs_background": "light"
     },
     "output_type": "display_data"
    },
    {
     "data": {
      "image/png": "[encoded data removed]",
      "text/plain": [
       "<Figure size 720x360 with 1 Axes>"
      ]
     },
     "metadata": {
      "needs_background": "light"
     },
     "output_type": "display_data"
    },
    {
     "data": {
      "image/png": "[encoded data removed]",
      "text/plain": [
       "<Figure size 720x360 with 1 Axes>"
      ]
     },
     "metadata": {
      "needs_background": "light"
     },
     "output_type": "display_data"
    },
    {
     "data": {
      "image/png": "[encoded data removed]",
      "text/plain": [
       "<Figure size 720x360 with 1 Axes>"
      ]
     },
     "metadata": {
      "needs_background": "light"
     },
     "output_type": "display_data"
    }
   ],
   "source": [
    "for i in RFM.columns:\n",
    "    sns.boxplot(RFM[i])\n",
    "    plt.show()"
   ]
  },
  {
   "cell_type": "code",
   "execution_count": 47,
   "metadata": {
    "execution": {
     "iopub.execute_input": "2021-09-25T14:45:15.839660Z",
     "iopub.status.busy": "2021-09-25T14:45:15.839414Z",
     "iopub.status.idle": "2021-09-25T14:45:15.845255Z",
     "shell.execute_reply": "2021-09-25T14:45:15.844492Z",
     "shell.execute_reply.started": "2021-09-25T14:45:15.839631Z"
    },
    "id": "64PcjT0TRmhr",
    "outputId": "5b1bba00-0a01-43c7-e42b-c926cb9babcb"
   },
   "outputs": [
    {
     "data": {
      "text/plain": [
       "(4843, 4)"
      ]
     },
     "execution_count": 47,
     "metadata": {},
     "output_type": "execute_result"
    }
   ],
   "source": [
    "RFM.shape"
   ]
  },
  {
   "cell_type": "code",
   "execution_count": 48,
   "metadata": {
    "execution": {
     "iopub.execute_input": "2021-09-25T14:45:15.847237Z",
     "iopub.status.busy": "2021-09-25T14:45:15.846921Z",
     "iopub.status.idle": "2021-09-25T14:45:15.869539Z",
     "shell.execute_reply": "2021-09-25T14:45:15.868595Z",
     "shell.execute_reply.started": "2021-09-25T14:45:15.847207Z"
    },
    "id": "uoxAamukTduz",
    "outputId": "3ddba70b-fefa-418c-9cfa-fbdb7856fb75"
   },
   "outputs": [
    {
     "data": {
      "text/html": [
       "<div>\n",
       "<style scoped>\n",
       "    .dataframe tbody tr th:only-of-type {\n",
       "        vertical-align: middle;\n",
       "    }\n",
       "\n",
       "    .dataframe tbody tr th {\n",
       "        vertical-align: top;\n",
       "    }\n",
       "\n",
       "    .dataframe thead th {\n",
       "        text-align: right;\n",
       "    }\n",
       "</style>\n",
       "<table border=\"1\" class=\"dataframe\">\n",
       "  <thead>\n",
       "    <tr style=\"text-align: right;\">\n",
       "      <th></th>\n",
       "      <th>Customer ID</th>\n",
       "      <th>Monetary</th>\n",
       "      <th>Frequency</th>\n",
       "      <th>Recency</th>\n",
       "    </tr>\n",
       "  </thead>\n",
       "  <tbody>\n",
       "    <tr>\n",
       "      <th>2</th>\n",
       "      <td>12348.0</td>\n",
       "      <td>2019.40</td>\n",
       "      <td>51</td>\n",
       "      <td>77.170833</td>\n",
       "    </tr>\n",
       "    <tr>\n",
       "      <th>3</th>\n",
       "      <td>12349.0</td>\n",
       "      <td>4428.69</td>\n",
       "      <td>180</td>\n",
       "      <td>20.311111</td>\n",
       "    </tr>\n",
       "    <tr>\n",
       "      <th>4</th>\n",
       "      <td>12350.0</td>\n",
       "      <td>334.40</td>\n",
       "      <td>17</td>\n",
       "      <td>312.054167</td>\n",
       "    </tr>\n",
       "    <tr>\n",
       "      <th>5</th>\n",
       "      <td>12351.0</td>\n",
       "      <td>300.93</td>\n",
       "      <td>21</td>\n",
       "      <td>377.080556</td>\n",
       "    </tr>\n",
       "    <tr>\n",
       "      <th>6</th>\n",
       "      <td>12352.0</td>\n",
       "      <td>2849.84</td>\n",
       "      <td>113</td>\n",
       "      <td>74.097917</td>\n",
       "    </tr>\n",
       "  </tbody>\n",
       "</table>\n",
       "</div>"
      ],
      "text/plain": [
       "   Customer ID  Monetary  Frequency     Recency\n",
       "2      12348.0   2019.40         51   77.170833\n",
       "3      12349.0   4428.69        180   20.311111\n",
       "4      12350.0    334.40         17  312.054167\n",
       "5      12351.0    300.93         21  377.080556\n",
       "6      12352.0   2849.84        113   74.097917"
      ]
     },
     "execution_count": 48,
     "metadata": {},
     "output_type": "execute_result"
    }
   ],
   "source": [
    "RFM.head()"
   ]
  },
  {
   "cell_type": "markdown",
   "metadata": {
    "id": "uVIHo14ZTnoB"
   },
   "source": [
    "# FOR CLUSTERING Scaling IS IMPORTANT"
   ]
  },
  {
   "cell_type": "code",
   "execution_count": 49,
   "metadata": {
    "execution": {
     "iopub.execute_input": "2021-09-25T14:45:15.871719Z",
     "iopub.status.busy": "2021-09-25T14:45:15.871295Z",
     "iopub.status.idle": "2021-09-25T14:45:16.014050Z",
     "shell.execute_reply": "2021-09-25T14:45:16.013006Z",
     "shell.execute_reply.started": "2021-09-25T14:45:15.871676Z"
    },
    "id": "djv_SKE1Tdyc"
   },
   "outputs": [],
   "source": [
    "from sklearn.preprocessing import StandardScaler"
   ]
  },
  {
   "cell_type": "code",
   "execution_count": 50,
   "metadata": {
    "execution": {
     "iopub.execute_input": "2021-09-25T14:45:16.016158Z",
     "iopub.status.busy": "2021-09-25T14:45:16.015814Z",
     "iopub.status.idle": "2021-09-25T14:45:16.039627Z",
     "shell.execute_reply": "2021-09-25T14:45:16.038557Z",
     "shell.execute_reply.started": "2021-09-25T14:45:16.016116Z"
    },
    "id": "PwFDLQxKTd2A",
    "outputId": "44ec0254-e473-4655-fc70-a23ba0ac2181"
   },
   "outputs": [
    {
     "data": {
      "text/html": [
       "<div>\n",
       "<style scoped>\n",
       "    .dataframe tbody tr th:only-of-type {\n",
       "        vertical-align: middle;\n",
       "    }\n",
       "\n",
       "    .dataframe tbody tr th {\n",
       "        vertical-align: top;\n",
       "    }\n",
       "\n",
       "    .dataframe thead th {\n",
       "        text-align: right;\n",
       "    }\n",
       "</style>\n",
       "<table border=\"1\" class=\"dataframe\">\n",
       "  <thead>\n",
       "    <tr style=\"text-align: right;\">\n",
       "      <th></th>\n",
       "      <th>Customer ID</th>\n",
       "      <th>Monetary</th>\n",
       "      <th>Frequency</th>\n",
       "      <th>Recency</th>\n",
       "    </tr>\n",
       "  </thead>\n",
       "  <tbody>\n",
       "    <tr>\n",
       "      <th>0</th>\n",
       "      <td>-1.732238</td>\n",
       "      <td>1.041591</td>\n",
       "      <td>-0.132598</td>\n",
       "      <td>-0.752623</td>\n",
       "    </tr>\n",
       "    <tr>\n",
       "      <th>1</th>\n",
       "      <td>-1.731656</td>\n",
       "      <td>3.466368</td>\n",
       "      <td>2.238607</td>\n",
       "      <td>-1.017648</td>\n",
       "    </tr>\n",
       "    <tr>\n",
       "      <th>2</th>\n",
       "      <td>-1.731075</td>\n",
       "      <td>-0.654240</td>\n",
       "      <td>-0.757567</td>\n",
       "      <td>0.342178</td>\n",
       "    </tr>\n",
       "    <tr>\n",
       "      <th>3</th>\n",
       "      <td>-1.730493</td>\n",
       "      <td>-0.687925</td>\n",
       "      <td>-0.684042</td>\n",
       "      <td>0.645269</td>\n",
       "    </tr>\n",
       "    <tr>\n",
       "      <th>4</th>\n",
       "      <td>-1.729911</td>\n",
       "      <td>1.877369</td>\n",
       "      <td>1.007051</td>\n",
       "      <td>-0.766946</td>\n",
       "    </tr>\n",
       "    <tr>\n",
       "      <th>...</th>\n",
       "      <td>...</td>\n",
       "      <td>...</td>\n",
       "      <td>...</td>\n",
       "      <td>...</td>\n",
       "    </tr>\n",
       "    <tr>\n",
       "      <th>4838</th>\n",
       "      <td>1.719853</td>\n",
       "      <td>-0.811595</td>\n",
       "      <td>-0.831093</td>\n",
       "      <td>-0.673764</td>\n",
       "    </tr>\n",
       "    <tr>\n",
       "      <th>4839</th>\n",
       "      <td>1.721016</td>\n",
       "      <td>-0.526142</td>\n",
       "      <td>-0.536990</td>\n",
       "      <td>1.447525</td>\n",
       "    </tr>\n",
       "    <tr>\n",
       "      <th>4840</th>\n",
       "      <td>1.721598</td>\n",
       "      <td>-0.561045</td>\n",
       "      <td>-0.849474</td>\n",
       "      <td>1.974634</td>\n",
       "    </tr>\n",
       "    <tr>\n",
       "      <th>4841</th>\n",
       "      <td>1.722180</td>\n",
       "      <td>0.313974</td>\n",
       "      <td>0.216649</td>\n",
       "      <td>1.116701</td>\n",
       "    </tr>\n",
       "    <tr>\n",
       "      <th>4842</th>\n",
       "      <td>1.722762</td>\n",
       "      <td>3.219088</td>\n",
       "      <td>1.797453</td>\n",
       "      <td>-1.106311</td>\n",
       "    </tr>\n",
       "  </tbody>\n",
       "</table>\n",
       "<p>4843 rows × 4 columns</p>\n",
       "</div>"
      ],
      "text/plain": [
       "      Customer ID  Monetary  Frequency   Recency\n",
       "0       -1.732238  1.041591  -0.132598 -0.752623\n",
       "1       -1.731656  3.466368   2.238607 -1.017648\n",
       "2       -1.731075 -0.654240  -0.757567  0.342178\n",
       "3       -1.730493 -0.687925  -0.684042  0.645269\n",
       "4       -1.729911  1.877369   1.007051 -0.766946\n",
       "...           ...       ...        ...       ...\n",
       "4838     1.719853 -0.811595  -0.831093 -0.673764\n",
       "4839     1.721016 -0.526142  -0.536990  1.447525\n",
       "4840     1.721598 -0.561045  -0.849474  1.974634\n",
       "4841     1.722180  0.313974   0.216649  1.116701\n",
       "4842     1.722762  3.219088   1.797453 -1.106311\n",
       "\n",
       "[4843 rows x 4 columns]"
      ]
     },
     "execution_count": 50,
     "metadata": {},
     "output_type": "execute_result"
    }
   ],
   "source": [
    "ss=StandardScaler()\n",
    "df_std=pd.DataFrame(ss.fit_transform(RFM),columns=RFM.columns)\n",
    "df_std"
   ]
  },
  {
   "cell_type": "code",
   "execution_count": 51,
   "metadata": {
    "execution": {
     "iopub.execute_input": "2021-09-25T14:45:16.041797Z",
     "iopub.status.busy": "2021-09-25T14:45:16.041480Z",
     "iopub.status.idle": "2021-09-25T14:45:16.048293Z",
     "shell.execute_reply": "2021-09-25T14:45:16.047438Z",
     "shell.execute_reply.started": "2021-09-25T14:45:16.041759Z"
    },
    "id": "kRQHGfllXg7y"
   },
   "outputs": [],
   "source": [
    "df_std.drop([\"Customer ID\"],axis=1,inplace=True)"
   ]
  },
  {
   "cell_type": "markdown",
   "metadata": {
    "id": "Iwwxh3KUUzOk"
   },
   "source": [
    "# Kmeans clustering"
   ]
  },
  {
   "cell_type": "code",
   "execution_count": 52,
   "metadata": {
    "execution": {
     "iopub.execute_input": "2021-09-25T14:45:16.049460Z",
     "iopub.status.busy": "2021-09-25T14:45:16.049216Z",
     "iopub.status.idle": "2021-09-25T14:45:16.371379Z",
     "shell.execute_reply": "2021-09-25T14:45:16.370227Z",
     "shell.execute_reply.started": "2021-09-25T14:45:16.049432Z"
    },
    "id": "J1nLT8NkVOoi"
   },
   "outputs": [],
   "source": [
    "from sklearn.cluster import  KMeans"
   ]
  },
  {
   "cell_type": "code",
   "execution_count": 53,
   "metadata": {
    "execution": {
     "iopub.execute_input": "2021-09-25T14:45:16.372965Z",
     "iopub.status.busy": "2021-09-25T14:45:16.372720Z",
     "iopub.status.idle": "2021-09-25T14:45:36.183377Z",
     "shell.execute_reply": "2021-09-25T14:45:36.182448Z",
     "shell.execute_reply.started": "2021-09-25T14:45:16.372936Z"
    },
    "id": "6h8XB0pNTd7M"
   },
   "outputs": [],
   "source": [
    "k_neighbors=np.arange(1,15)\n",
    "kmeans_clusters=[]\n",
    "\n",
    "for i in k_neighbors:\n",
    "  kmeans=KMeans(n_clusters=i)\n",
    "  kmeans.fit(df_std)\n",
    "  kmeans_clusters.append(kmeans.inertia_)\n"
   ]
  },
  {
   "cell_type": "code",
   "execution_count": 54,
   "metadata": {
    "execution": {
     "iopub.execute_input": "2021-09-25T14:45:36.185472Z",
     "iopub.status.busy": "2021-09-25T14:45:36.184845Z",
     "iopub.status.idle": "2021-09-25T14:45:36.192762Z",
     "shell.execute_reply": "2021-09-25T14:45:36.191564Z",
     "shell.execute_reply.started": "2021-09-25T14:45:36.185431Z"
    },
    "id": "BnS5KMdIWKl-",
    "outputId": "9cf2e94a-3920-4318-f412-1c42d9f72232"
   },
   "outputs": [
    {
     "data": {
      "text/plain": [
       "[14528.99999999995,\n",
       " 8018.700965304817,\n",
       " 5027.933352362218,\n",
       " 4028.752377321152,\n",
       " 3480.108443422623,\n",
       " 3005.714504213428,\n",
       " 2629.0513543789402,\n",
       " 2300.4571354350046,\n",
       " 2082.8016257451463,\n",
       " 1950.571594199103,\n",
       " 1812.2482611196488,\n",
       " 1697.40340094556,\n",
       " 1589.1293497755041,\n",
       " 1512.6155303169578]"
      ]
     },
     "execution_count": 54,
     "metadata": {},
     "output_type": "execute_result"
    }
   ],
   "source": [
    "kmeans_clusters"
   ]
  },
  {
   "cell_type": "markdown",
   "metadata": {
    "id": "ms28E9ccV58H"
   },
   "source": [
    "# ELBOW PLOT  OF N_CLUSTERS VS INERTIA"
   ]
  },
  {
   "cell_type": "code",
   "execution_count": 55,
   "metadata": {
    "execution": {
     "iopub.execute_input": "2021-09-25T14:45:36.197947Z",
     "iopub.status.busy": "2021-09-25T14:45:36.196894Z",
     "iopub.status.idle": "2021-09-25T14:45:36.460836Z",
     "shell.execute_reply": "2021-09-25T14:45:36.459893Z",
     "shell.execute_reply.started": "2021-09-25T14:45:36.197900Z"
    },
    "id": "cr-diXqFVt5M",
    "outputId": "46767285-268a-40d7-b00d-95acbc3a4654"
   },
   "outputs": [
    {
     "data": {
      "image/png": "[encoded data removed]",
      "text/plain": [
       "<Figure size 720x360 with 1 Axes>"
      ]
     },
     "metadata": {
      "needs_background": "light"
     },
     "output_type": "display_data"
    }
   ],
   "source": [
    "plt.plot(k_neighbors,kmeans_clusters,marker=\"o\")\n",
    "plt.show()"
   ]
  },
  {
   "cell_type": "markdown",
   "metadata": {
    "id": "WvduTd52Wtws"
   },
   "source": [
    "# n_clusters=3"
   ]
  },
  {
   "cell_type": "code",
   "execution_count": 56,
   "metadata": {
    "execution": {
     "iopub.execute_input": "2021-09-25T14:45:36.464825Z",
     "iopub.status.busy": "2021-09-25T14:45:36.464558Z",
     "iopub.status.idle": "2021-09-25T14:45:37.792669Z",
     "shell.execute_reply": "2021-09-25T14:45:37.791660Z",
     "shell.execute_reply.started": "2021-09-25T14:45:36.464794Z"
    },
    "id": "Pwq2HzAeV3U9",
    "outputId": "953388b3-c3a3-4522-f9dd-55ca06d1e085"
   },
   "outputs": [
    {
     "data": {
      "text/plain": [
       "KMeans(n_clusters=3, random_state=10)"
      ]
     },
     "execution_count": 56,
     "metadata": {},
     "output_type": "execute_result"
    }
   ],
   "source": [
    "kmeans=KMeans(n_clusters=3,random_state=10)\n",
    "kmeans.fit(df_std)"
   ]
  },
  {
   "cell_type": "code",
   "execution_count": 57,
   "metadata": {
    "execution": {
     "iopub.execute_input": "2021-09-25T14:45:37.794298Z",
     "iopub.status.busy": "2021-09-25T14:45:37.794059Z",
     "iopub.status.idle": "2021-09-25T14:45:37.803766Z",
     "shell.execute_reply": "2021-09-25T14:45:37.802998Z",
     "shell.execute_reply.started": "2021-09-25T14:45:37.794269Z"
    },
    "id": "4eFNFSTwWRm7"
   },
   "outputs": [],
   "source": [
    "predict=kmeans.predict(df_std)"
   ]
  },
  {
   "cell_type": "code",
   "execution_count": 58,
   "metadata": {
    "execution": {
     "iopub.execute_input": "2021-09-25T14:45:37.805613Z",
     "iopub.status.busy": "2021-09-25T14:45:37.805134Z",
     "iopub.status.idle": "2021-09-25T14:45:37.812856Z",
     "shell.execute_reply": "2021-09-25T14:45:37.812107Z",
     "shell.execute_reply.started": "2021-09-25T14:45:37.805576Z"
    },
    "id": "-ieKnDlPX6Yx"
   },
   "outputs": [],
   "source": [
    "df_kmeans=df_std.copy(deep=True)"
   ]
  },
  {
   "cell_type": "code",
   "execution_count": 59,
   "metadata": {
    "execution": {
     "iopub.execute_input": "2021-09-25T14:45:37.815153Z",
     "iopub.status.busy": "2021-09-25T14:45:37.814590Z",
     "iopub.status.idle": "2021-09-25T14:45:37.832880Z",
     "shell.execute_reply": "2021-09-25T14:45:37.832129Z",
     "shell.execute_reply.started": "2021-09-25T14:45:37.815119Z"
    },
    "id": "i2olszh-YCox",
    "outputId": "1e35f1dc-abd1-4a4a-b396-044c626af666"
   },
   "outputs": [
    {
     "data": {
      "text/html": [
       "<div>\n",
       "<style scoped>\n",
       "    .dataframe tbody tr th:only-of-type {\n",
       "        vertical-align: middle;\n",
       "    }\n",
       "\n",
       "    .dataframe tbody tr th {\n",
       "        vertical-align: top;\n",
       "    }\n",
       "\n",
       "    .dataframe thead th {\n",
       "        text-align: right;\n",
       "    }\n",
       "</style>\n",
       "<table border=\"1\" class=\"dataframe\">\n",
       "  <thead>\n",
       "    <tr style=\"text-align: right;\">\n",
       "      <th></th>\n",
       "      <th>Monetary</th>\n",
       "      <th>Frequency</th>\n",
       "      <th>Recency</th>\n",
       "    </tr>\n",
       "  </thead>\n",
       "  <tbody>\n",
       "    <tr>\n",
       "      <th>0</th>\n",
       "      <td>1.041591</td>\n",
       "      <td>-0.132598</td>\n",
       "      <td>-0.752623</td>\n",
       "    </tr>\n",
       "    <tr>\n",
       "      <th>1</th>\n",
       "      <td>3.466368</td>\n",
       "      <td>2.238607</td>\n",
       "      <td>-1.017648</td>\n",
       "    </tr>\n",
       "    <tr>\n",
       "      <th>2</th>\n",
       "      <td>-0.654240</td>\n",
       "      <td>-0.757567</td>\n",
       "      <td>0.342178</td>\n",
       "    </tr>\n",
       "    <tr>\n",
       "      <th>3</th>\n",
       "      <td>-0.687925</td>\n",
       "      <td>-0.684042</td>\n",
       "      <td>0.645269</td>\n",
       "    </tr>\n",
       "    <tr>\n",
       "      <th>4</th>\n",
       "      <td>1.877369</td>\n",
       "      <td>1.007051</td>\n",
       "      <td>-0.766946</td>\n",
       "    </tr>\n",
       "  </tbody>\n",
       "</table>\n",
       "</div>"
      ],
      "text/plain": [
       "   Monetary  Frequency   Recency\n",
       "0  1.041591  -0.132598 -0.752623\n",
       "1  3.466368   2.238607 -1.017648\n",
       "2 -0.654240  -0.757567  0.342178\n",
       "3 -0.687925  -0.684042  0.645269\n",
       "4  1.877369   1.007051 -0.766946"
      ]
     },
     "execution_count": 59,
     "metadata": {},
     "output_type": "execute_result"
    }
   ],
   "source": [
    "df_kmeans.head()"
   ]
  },
  {
   "cell_type": "code",
   "execution_count": 60,
   "metadata": {
    "execution": {
     "iopub.execute_input": "2021-09-25T14:45:37.834807Z",
     "iopub.status.busy": "2021-09-25T14:45:37.834386Z",
     "iopub.status.idle": "2021-09-25T14:45:37.845222Z",
     "shell.execute_reply": "2021-09-25T14:45:37.844456Z",
     "shell.execute_reply.started": "2021-09-25T14:45:37.834774Z"
    },
    "id": "hjeu8I3oYFIy"
   },
   "outputs": [],
   "source": [
    "df_kmeans[\"Labels\"]=predict"
   ]
  },
  {
   "cell_type": "code",
   "execution_count": 61,
   "metadata": {
    "execution": {
     "iopub.execute_input": "2021-09-25T14:45:37.852347Z",
     "iopub.status.busy": "2021-09-25T14:45:37.850148Z",
     "iopub.status.idle": "2021-09-25T14:45:37.869591Z",
     "shell.execute_reply": "2021-09-25T14:45:37.868752Z",
     "shell.execute_reply.started": "2021-09-25T14:45:37.852289Z"
    },
    "id": "JymfMxnZYLY9",
    "outputId": "768a86a1-c9de-4a2f-98a5-b6ab00f85203"
   },
   "outputs": [
    {
     "data": {
      "text/html": [
       "<div>\n",
       "<style scoped>\n",
       "    .dataframe tbody tr th:only-of-type {\n",
       "        vertical-align: middle;\n",
       "    }\n",
       "\n",
       "    .dataframe tbody tr th {\n",
       "        vertical-align: top;\n",
       "    }\n",
       "\n",
       "    .dataframe thead th {\n",
       "        text-align: right;\n",
       "    }\n",
       "</style>\n",
       "<table border=\"1\" class=\"dataframe\">\n",
       "  <thead>\n",
       "    <tr style=\"text-align: right;\">\n",
       "      <th></th>\n",
       "      <th>Monetary</th>\n",
       "      <th>Frequency</th>\n",
       "      <th>Recency</th>\n",
       "      <th>Labels</th>\n",
       "    </tr>\n",
       "  </thead>\n",
       "  <tbody>\n",
       "    <tr>\n",
       "      <th>0</th>\n",
       "      <td>1.041591</td>\n",
       "      <td>-0.132598</td>\n",
       "      <td>-0.752623</td>\n",
       "      <td>2</td>\n",
       "    </tr>\n",
       "    <tr>\n",
       "      <th>1</th>\n",
       "      <td>3.466368</td>\n",
       "      <td>2.238607</td>\n",
       "      <td>-1.017648</td>\n",
       "      <td>1</td>\n",
       "    </tr>\n",
       "    <tr>\n",
       "      <th>2</th>\n",
       "      <td>-0.654240</td>\n",
       "      <td>-0.757567</td>\n",
       "      <td>0.342178</td>\n",
       "      <td>0</td>\n",
       "    </tr>\n",
       "    <tr>\n",
       "      <th>3</th>\n",
       "      <td>-0.687925</td>\n",
       "      <td>-0.684042</td>\n",
       "      <td>0.645269</td>\n",
       "      <td>0</td>\n",
       "    </tr>\n",
       "    <tr>\n",
       "      <th>4</th>\n",
       "      <td>1.877369</td>\n",
       "      <td>1.007051</td>\n",
       "      <td>-0.766946</td>\n",
       "      <td>1</td>\n",
       "    </tr>\n",
       "  </tbody>\n",
       "</table>\n",
       "</div>"
      ],
      "text/plain": [
       "   Monetary  Frequency   Recency  Labels\n",
       "0  1.041591  -0.132598 -0.752623       2\n",
       "1  3.466368   2.238607 -1.017648       1\n",
       "2 -0.654240  -0.757567  0.342178       0\n",
       "3 -0.687925  -0.684042  0.645269       0\n",
       "4  1.877369   1.007051 -0.766946       1"
      ]
     },
     "execution_count": 61,
     "metadata": {},
     "output_type": "execute_result"
    }
   ],
   "source": [
    "df_kmeans.head()"
   ]
  },
  {
   "cell_type": "code",
   "execution_count": 62,
   "metadata": {
    "execution": {
     "iopub.execute_input": "2021-09-25T14:45:37.877174Z",
     "iopub.status.busy": "2021-09-25T14:45:37.874627Z",
     "iopub.status.idle": "2021-09-25T14:45:37.887060Z",
     "shell.execute_reply": "2021-09-25T14:45:37.886146Z",
     "shell.execute_reply.started": "2021-09-25T14:45:37.877110Z"
    },
    "id": "vAgdu3qQuMm8",
    "outputId": "78ff1fad-072b-49fd-d952-5859594f1d9d"
   },
   "outputs": [
    {
     "data": {
      "text/plain": [
       "5027.906534914035"
      ]
     },
     "execution_count": 62,
     "metadata": {},
     "output_type": "execute_result"
    }
   ],
   "source": [
    "kmeans.inertia_"
   ]
  },
  {
   "cell_type": "code",
   "execution_count": 63,
   "metadata": {
    "execution": {
     "iopub.execute_input": "2021-09-25T14:45:37.894315Z",
     "iopub.status.busy": "2021-09-25T14:45:37.891768Z",
     "iopub.status.idle": "2021-09-25T14:45:37.900350Z",
     "shell.execute_reply": "2021-09-25T14:45:37.899495Z",
     "shell.execute_reply.started": "2021-09-25T14:45:37.894255Z"
    },
    "id": "r5GPIrFFuWgT"
   },
   "outputs": [],
   "source": [
    "from sklearn import metrics"
   ]
  },
  {
   "cell_type": "code",
   "execution_count": 64,
   "metadata": {
    "execution": {
     "iopub.execute_input": "2021-09-25T14:45:37.908324Z",
     "iopub.status.busy": "2021-09-25T14:45:37.905636Z",
     "iopub.status.idle": "2021-09-25T14:45:38.544834Z",
     "shell.execute_reply": "2021-09-25T14:45:38.543931Z",
     "shell.execute_reply.started": "2021-09-25T14:45:37.908249Z"
    },
    "id": "Df-w3vGpy2yL",
    "outputId": "fafe0eca-14bc-43d7-b287-7ef33d4aeeba"
   },
   "outputs": [
    {
     "data": {
      "text/plain": [
       "0.41853731569908265"
      ]
     },
     "execution_count": 64,
     "metadata": {},
     "output_type": "execute_result"
    }
   ],
   "source": [
    "metrics.silhouette_score(df_std,df_kmeans.Labels)"
   ]
  },
  {
   "cell_type": "code",
   "execution_count": 65,
   "metadata": {
    "execution": {
     "iopub.execute_input": "2021-09-25T14:45:38.554838Z",
     "iopub.status.busy": "2021-09-25T14:45:38.549562Z",
     "iopub.status.idle": "2021-09-25T14:45:38.577018Z",
     "shell.execute_reply": "2021-09-25T14:45:38.574430Z",
     "shell.execute_reply.started": "2021-09-25T14:45:38.554763Z"
    },
    "id": "irH1uYbZaKpg"
   },
   "outputs": [],
   "source": [
    "# Recency: How recently a customer has made a purchase. \n",
    "# Frequency: How often a customer makes a purchase. \n",
    "# Monetary Value: How much money a customer spends on purchases."
   ]
  },
  {
   "cell_type": "code",
   "execution_count": 66,
   "metadata": {
    "execution": {
     "iopub.execute_input": "2021-09-25T14:45:38.578994Z",
     "iopub.status.busy": "2021-09-25T14:45:38.578614Z",
     "iopub.status.idle": "2021-09-25T14:45:40.009939Z",
     "shell.execute_reply": "2021-09-25T14:45:40.008540Z",
     "shell.execute_reply.started": "2021-09-25T14:45:38.578946Z"
    },
    "id": "LliJpurjYNvg",
    "outputId": "93b62447-734d-4bfa-fb2f-7b7c39cf0673"
   },
   "outputs": [
    {
     "data": {
      "image/png": "[encoded data removed]",
      "text/plain": [
       "<Figure size 402.375x360 with 1 Axes>"
      ]
     },
     "metadata": {
      "needs_background": "light"
     },
     "output_type": "display_data"
    }
   ],
   "source": [
    "sns.lmplot(x='Frequency', y='Monetary', hue='Labels', data=df_kmeans)\n",
    "plt.show()"
   ]
  },
  {
   "cell_type": "markdown",
   "metadata": {
    "id": "EaVRWcZ9bUF3"
   },
   "source": [
    "# **Inferecnce:**\n",
    "#Customer whose frequency is high is often spending more money in purchasing the products\n",
    "#Customer whose frequency is less is spending less money in purchasing the products."
   ]
  },
  {
   "cell_type": "code",
   "execution_count": 67,
   "metadata": {
    "execution": {
     "iopub.execute_input": "2021-09-25T14:45:40.011681Z",
     "iopub.status.busy": "2021-09-25T14:45:40.011386Z",
     "iopub.status.idle": "2021-09-25T14:45:41.048309Z",
     "shell.execute_reply": "2021-09-25T14:45:41.047442Z",
     "shell.execute_reply.started": "2021-09-25T14:45:40.011649Z"
    },
    "id": "W_jleCyEZrZw",
    "outputId": "e5010f72-4b46-4ee9-e337-eb3c5acf5cb7"
   },
   "outputs": [
    {
     "data": {
      "image/png": "[encoded data removed]",
      "text/plain": [
       "<Figure size 402.375x360 with 1 Axes>"
      ]
     },
     "metadata": {
      "needs_background": "light"
     },
     "output_type": "display_data"
    }
   ],
   "source": [
    "sns.lmplot(x='Recency', y='Monetary', hue='Labels', data=df_kmeans)\n",
    "plt.show()"
   ]
  },
  {
   "cell_type": "markdown",
   "metadata": {
    "id": "gSqspRecbl-D"
   },
   "source": [
    "# **Inferecnce:**\n",
    "#Recent customers is spending less money in purchasing the products.\n",
    "\n",
    "# Customers who purchased back is spending money in less,medium and high level"
   ]
  },
  {
   "cell_type": "code",
   "execution_count": 68,
   "metadata": {
    "execution": {
     "iopub.execute_input": "2021-09-25T14:45:41.049774Z",
     "iopub.status.busy": "2021-09-25T14:45:41.049520Z",
     "iopub.status.idle": "2021-09-25T14:45:42.390139Z",
     "shell.execute_reply": "2021-09-25T14:45:42.389239Z",
     "shell.execute_reply.started": "2021-09-25T14:45:41.049744Z"
    },
    "id": "lFnDoZHUdnIC",
    "outputId": "db6e9f82-b32e-453e-f41c-9f6a7e0cd56a"
   },
   "outputs": [
    {
     "data": {
      "image/png": "[encoded data removed]",
      "text/plain": [
       "<Figure size 402.375x360 with 1 Axes>"
      ]
     },
     "metadata": {
      "needs_background": "light"
     },
     "output_type": "display_data"
    }
   ],
   "source": [
    "sns.lmplot(x='Frequency', y='Monetary', hue='Labels', data=df_kmeans)\n",
    "plt.show()"
   ]
  },
  {
   "cell_type": "markdown",
   "metadata": {
    "id": "tJHaIcUZdbam"
   },
   "source": [
    "# **Inference** \n",
    "# Orange(1) is high level customers \n",
    "# Blue(0) is low level customers\n",
    "# Green(2) is medium level customers."
   ]
  },
  {
   "cell_type": "markdown",
   "metadata": {
    "id": "wVwa7EIjhtKM"
   },
   "source": [
    "# **Agglomerative clustering**"
   ]
  },
  {
   "cell_type": "code",
   "execution_count": 69,
   "metadata": {
    "execution": {
     "iopub.execute_input": "2021-09-25T14:45:42.392329Z",
     "iopub.status.busy": "2021-09-25T14:45:42.391812Z",
     "iopub.status.idle": "2021-09-25T14:45:42.397430Z",
     "shell.execute_reply": "2021-09-25T14:45:42.396134Z",
     "shell.execute_reply.started": "2021-09-25T14:45:42.392294Z"
    },
    "id": "zmSFKrrZYN5q"
   },
   "outputs": [],
   "source": [
    "from scipy.cluster.hierarchy import linkage, dendrogram,cophenet\n",
    "from scipy.spatial.distance import pdist"
   ]
  },
  {
   "cell_type": "markdown",
   "metadata": {
    "id": "nB57sVj80HdX"
   },
   "source": [
    "# Highest correlation_score is best distance method"
   ]
  },
  {
   "cell_type": "code",
   "execution_count": 70,
   "metadata": {
    "execution": {
     "iopub.execute_input": "2021-09-25T14:45:42.399306Z",
     "iopub.status.busy": "2021-09-25T14:45:42.399017Z",
     "iopub.status.idle": "2021-09-25T14:45:43.879516Z",
     "shell.execute_reply": "2021-09-25T14:45:43.878516Z",
     "shell.execute_reply.started": "2021-09-25T14:45:42.399275Z"
    },
    "id": "2WR6n7AoYN8S",
    "outputId": "413f0dda-9492-4771-840e-edaa313987e3"
   },
   "outputs": [
    {
     "data": {
      "text/plain": [
       "0.6078842872035912"
      ]
     },
     "execution_count": 70,
     "metadata": {},
     "output_type": "execute_result"
    }
   ],
   "source": [
    "Z = linkage(df_std, 'ward')   # cophenetic distance (single/complete/average)\n",
    "c, coph_dists = cophenet(Z , pdist(df_std))\n",
    "c"
   ]
  },
  {
   "cell_type": "code",
   "execution_count": 71,
   "metadata": {
    "execution": {
     "iopub.execute_input": "2021-09-25T14:45:43.881948Z",
     "iopub.status.busy": "2021-09-25T14:45:43.881045Z",
     "iopub.status.idle": "2021-09-25T14:45:44.690981Z",
     "shell.execute_reply": "2021-09-25T14:45:44.690119Z",
     "shell.execute_reply.started": "2021-09-25T14:45:43.881894Z"
    },
    "id": "fX2a-wKNYOAi",
    "outputId": "5d07279a-1775-4009-8197-970c2e5091d1"
   },
   "outputs": [
    {
     "data": {
      "text/plain": [
       "0.47244737934711295"
      ]
     },
     "execution_count": 71,
     "metadata": {},
     "output_type": "execute_result"
    }
   ],
   "source": [
    "Z = linkage(df_std, 'single')   # cophenetic distance (single/complete/average)\n",
    "c, coph_dists = cophenet(Z , pdist(df_std))\n",
    "c"
   ]
  },
  {
   "cell_type": "code",
   "execution_count": 72,
   "metadata": {
    "execution": {
     "iopub.execute_input": "2021-09-25T14:45:44.692375Z",
     "iopub.status.busy": "2021-09-25T14:45:44.692124Z",
     "iopub.status.idle": "2021-09-25T14:45:46.007041Z",
     "shell.execute_reply": "2021-09-25T14:45:46.006124Z",
     "shell.execute_reply.started": "2021-09-25T14:45:44.692334Z"
    },
    "id": "mODNm_yjYODv",
    "outputId": "38250424-aca2-4cd6-e582-3a0f2f76c27f"
   },
   "outputs": [
    {
     "data": {
      "text/plain": [
       "0.7205283537056859"
      ]
     },
     "execution_count": 72,
     "metadata": {},
     "output_type": "execute_result"
    }
   ],
   "source": [
    "Z = linkage(df_std, 'complete')   # cophenetic distance (single/complete/average)\n",
    "c, coph_dists = cophenet(Z , pdist(df_std))\n",
    "c"
   ]
  },
  {
   "cell_type": "code",
   "execution_count": 73,
   "metadata": {
    "execution": {
     "iopub.execute_input": "2021-09-25T14:45:46.010677Z",
     "iopub.status.busy": "2021-09-25T14:45:46.010288Z",
     "iopub.status.idle": "2021-09-25T14:45:47.585401Z",
     "shell.execute_reply": "2021-09-25T14:45:47.584329Z",
     "shell.execute_reply.started": "2021-09-25T14:45:46.010644Z"
    },
    "id": "AtXuwATdYOGi",
    "outputId": "b4453260-c279-4091-e58b-c97a3142fafd"
   },
   "outputs": [
    {
     "data": {
      "text/plain": [
       "0.7317153268426396"
      ]
     },
     "execution_count": 73,
     "metadata": {},
     "output_type": "execute_result"
    }
   ],
   "source": [
    "Z = linkage(df_std, 'average')   # cophenetic distance (single/complete/average)\n",
    "c, coph_dists = cophenet(Z , pdist(df_std))\n",
    "c"
   ]
  },
  {
   "cell_type": "code",
   "execution_count": 74,
   "metadata": {
    "execution": {
     "iopub.execute_input": "2021-09-25T14:45:47.587072Z",
     "iopub.status.busy": "2021-09-25T14:45:47.586847Z",
     "iopub.status.idle": "2021-09-25T14:45:47.591966Z",
     "shell.execute_reply": "2021-09-25T14:45:47.590966Z",
     "shell.execute_reply.started": "2021-09-25T14:45:47.587046Z"
    },
    "id": "56H4kOk5YOMK"
   },
   "outputs": [],
   "source": [
    "# Avearage cophenetic distance is best."
   ]
  },
  {
   "cell_type": "code",
   "execution_count": 75,
   "metadata": {
    "execution": {
     "iopub.execute_input": "2021-09-25T14:45:47.593283Z",
     "iopub.status.busy": "2021-09-25T14:45:47.593065Z",
     "iopub.status.idle": "2021-09-25T14:47:39.001404Z",
     "shell.execute_reply": "2021-09-25T14:47:39.000683Z",
     "shell.execute_reply.started": "2021-09-25T14:45:47.593258Z"
    },
    "id": "iLE5i3KkYOO-",
    "outputId": "4b584935-8f6c-4a91-f87d-0df24ebfacf3"
   },
   "outputs": [
    {
     "data": {
      "image/png": "[encoded data removed]",
      "text/plain": [
       "<Figure size 720x720 with 1 Axes>"
      ]
     },
     "metadata": {
      "needs_background": "light"
     },
     "output_type": "display_data"
    }
   ],
   "source": [
    "plt.figure(figsize=[10,10])\n",
    "merg = linkage(df_std, method='average')\n",
    "dendrogram(merg, leaf_rotation=90)\n",
    "plt.title('Dendrogram')\n",
    "plt.xlabel('Data Points')\n",
    "plt.ylabel('Euclidean Distances')\n",
    "plt.show()"
   ]
  },
  {
   "cell_type": "code",
   "execution_count": 76,
   "metadata": {
    "execution": {
     "iopub.execute_input": "2021-09-25T14:47:39.003534Z",
     "iopub.status.busy": "2021-09-25T14:47:39.002755Z",
     "iopub.status.idle": "2021-09-25T14:47:39.871968Z",
     "shell.execute_reply": "2021-09-25T14:47:39.871200Z",
     "shell.execute_reply.started": "2021-09-25T14:47:39.003486Z"
    },
    "id": "AVmGLAGH1nWj"
   },
   "outputs": [],
   "source": [
    "from sklearn.cluster import AgglomerativeClustering\n",
    "\n",
    "hie_clus = AgglomerativeClustering(n_clusters=2, affinity='euclidean', linkage='average')\n",
    "cluster2 = hie_clus.fit_predict(df_std)\n",
    "\n",
    "df_h = df_std.copy(deep=True)\n",
    "df_h['label'] = cluster2"
   ]
  },
  {
   "cell_type": "code",
   "execution_count": 77,
   "metadata": {
    "execution": {
     "iopub.execute_input": "2021-09-25T14:47:39.874122Z",
     "iopub.status.busy": "2021-09-25T14:47:39.873096Z",
     "iopub.status.idle": "2021-09-25T14:47:40.326893Z",
     "shell.execute_reply": "2021-09-25T14:47:40.326192Z",
     "shell.execute_reply.started": "2021-09-25T14:47:39.874071Z"
    },
    "id": "PRDeEFq81njM",
    "outputId": "29563efb-8eab-441d-9d13-b057fbb263c7"
   },
   "outputs": [
    {
     "data": {
      "text/plain": [
       "0.48982092358509516"
      ]
     },
     "execution_count": 77,
     "metadata": {},
     "output_type": "execute_result"
    }
   ],
   "source": [
    "metrics.silhouette_score(df_h,df_h.label)\n"
   ]
  },
  {
   "cell_type": "code",
   "execution_count": 78,
   "metadata": {
    "execution": {
     "iopub.execute_input": "2021-09-25T14:47:40.328306Z",
     "iopub.status.busy": "2021-09-25T14:47:40.327913Z",
     "iopub.status.idle": "2021-09-25T14:47:40.335092Z",
     "shell.execute_reply": "2021-09-25T14:47:40.334340Z",
     "shell.execute_reply.started": "2021-09-25T14:47:40.328261Z"
    },
    "id": "gB-1bSti1nmd"
   },
   "outputs": [],
   "source": [
    "AGC_clusters = df_h.groupby(['label'])\n",
    "Df0=AGC_clusters.get_group(0)\n",
    "Df1=AGC_clusters.get_group(1)\n"
   ]
  },
  {
   "cell_type": "code",
   "execution_count": 79,
   "metadata": {
    "execution": {
     "iopub.execute_input": "2021-09-25T14:47:40.337139Z",
     "iopub.status.busy": "2021-09-25T14:47:40.336188Z",
     "iopub.status.idle": "2021-09-25T14:47:40.347745Z",
     "shell.execute_reply": "2021-09-25T14:47:40.346856Z",
     "shell.execute_reply.started": "2021-09-25T14:47:40.337092Z"
    },
    "id": "_U9gOWbZ1nqP",
    "outputId": "815b7d7f-c744-41a8-eb38-c6540e87da7f"
   },
   "outputs": [
    {
     "data": {
      "text/plain": [
       "((1157, 4), (3686, 4))"
      ]
     },
     "execution_count": 79,
     "metadata": {},
     "output_type": "execute_result"
    }
   ],
   "source": [
    "Df0.shape,Df1.shape"
   ]
  },
  {
   "cell_type": "code",
   "execution_count": 80,
   "metadata": {
    "execution": {
     "iopub.execute_input": "2021-09-25T14:47:40.350088Z",
     "iopub.status.busy": "2021-09-25T14:47:40.349028Z",
     "iopub.status.idle": "2021-09-25T14:47:40.368306Z",
     "shell.execute_reply": "2021-09-25T14:47:40.367522Z",
     "shell.execute_reply.started": "2021-09-25T14:47:40.350036Z"
    },
    "id": "djaq3vD71nwn",
    "outputId": "0d4402b7-37ab-4469-cdb2-f6a381b6f3f3"
   },
   "outputs": [
    {
     "data": {
      "text/html": [
       "<div>\n",
       "<style scoped>\n",
       "    .dataframe tbody tr th:only-of-type {\n",
       "        vertical-align: middle;\n",
       "    }\n",
       "\n",
       "    .dataframe tbody tr th {\n",
       "        vertical-align: top;\n",
       "    }\n",
       "\n",
       "    .dataframe thead th {\n",
       "        text-align: right;\n",
       "    }\n",
       "</style>\n",
       "<table border=\"1\" class=\"dataframe\">\n",
       "  <thead>\n",
       "    <tr style=\"text-align: right;\">\n",
       "      <th></th>\n",
       "      <th>Monetary</th>\n",
       "      <th>Frequency</th>\n",
       "      <th>Recency</th>\n",
       "      <th>label</th>\n",
       "    </tr>\n",
       "  </thead>\n",
       "  <tbody>\n",
       "    <tr>\n",
       "      <th>1</th>\n",
       "      <td>3.466368</td>\n",
       "      <td>2.238607</td>\n",
       "      <td>-1.017648</td>\n",
       "      <td>0</td>\n",
       "    </tr>\n",
       "    <tr>\n",
       "      <th>4</th>\n",
       "      <td>1.877369</td>\n",
       "      <td>1.007051</td>\n",
       "      <td>-0.766946</td>\n",
       "      <td>0</td>\n",
       "    </tr>\n",
       "    <tr>\n",
       "      <th>8</th>\n",
       "      <td>2.233675</td>\n",
       "      <td>0.216649</td>\n",
       "      <td>-1.092267</td>\n",
       "      <td>0</td>\n",
       "    </tr>\n",
       "    <tr>\n",
       "      <th>9</th>\n",
       "      <td>3.289438</td>\n",
       "      <td>2.937102</td>\n",
       "      <td>-0.860244</td>\n",
       "      <td>0</td>\n",
       "    </tr>\n",
       "    <tr>\n",
       "      <th>12</th>\n",
       "      <td>0.330751</td>\n",
       "      <td>0.492371</td>\n",
       "      <td>-0.916245</td>\n",
       "      <td>0</td>\n",
       "    </tr>\n",
       "  </tbody>\n",
       "</table>\n",
       "</div>"
      ],
      "text/plain": [
       "    Monetary  Frequency   Recency  label\n",
       "1   3.466368   2.238607 -1.017648      0\n",
       "4   1.877369   1.007051 -0.766946      0\n",
       "8   2.233675   0.216649 -1.092267      0\n",
       "9   3.289438   2.937102 -0.860244      0\n",
       "12  0.330751   0.492371 -0.916245      0"
      ]
     },
     "execution_count": 80,
     "metadata": {},
     "output_type": "execute_result"
    }
   ],
   "source": [
    "Df0.head()"
   ]
  },
  {
   "cell_type": "code",
   "execution_count": 81,
   "metadata": {
    "execution": {
     "iopub.execute_input": "2021-09-25T14:47:40.370258Z",
     "iopub.status.busy": "2021-09-25T14:47:40.369517Z",
     "iopub.status.idle": "2021-09-25T14:47:40.389089Z",
     "shell.execute_reply": "2021-09-25T14:47:40.387579Z",
     "shell.execute_reply.started": "2021-09-25T14:47:40.370218Z"
    },
    "id": "qtbs8gbK1n0E",
    "outputId": "fe4638d6-98be-447c-d8b2-e29c3b614459"
   },
   "outputs": [
    {
     "data": {
      "text/html": [
       "<div>\n",
       "<style scoped>\n",
       "    .dataframe tbody tr th:only-of-type {\n",
       "        vertical-align: middle;\n",
       "    }\n",
       "\n",
       "    .dataframe tbody tr th {\n",
       "        vertical-align: top;\n",
       "    }\n",
       "\n",
       "    .dataframe thead th {\n",
       "        text-align: right;\n",
       "    }\n",
       "</style>\n",
       "<table border=\"1\" class=\"dataframe\">\n",
       "  <thead>\n",
       "    <tr style=\"text-align: right;\">\n",
       "      <th></th>\n",
       "      <th>Monetary</th>\n",
       "      <th>Frequency</th>\n",
       "      <th>Recency</th>\n",
       "      <th>label</th>\n",
       "    </tr>\n",
       "  </thead>\n",
       "  <tbody>\n",
       "    <tr>\n",
       "      <th>0</th>\n",
       "      <td>1.041591</td>\n",
       "      <td>-0.132598</td>\n",
       "      <td>-0.752623</td>\n",
       "      <td>1</td>\n",
       "    </tr>\n",
       "    <tr>\n",
       "      <th>2</th>\n",
       "      <td>-0.654240</td>\n",
       "      <td>-0.757567</td>\n",
       "      <td>0.342178</td>\n",
       "      <td>1</td>\n",
       "    </tr>\n",
       "    <tr>\n",
       "      <th>3</th>\n",
       "      <td>-0.687925</td>\n",
       "      <td>-0.684042</td>\n",
       "      <td>0.645269</td>\n",
       "      <td>1</td>\n",
       "    </tr>\n",
       "    <tr>\n",
       "      <th>5</th>\n",
       "      <td>-0.581415</td>\n",
       "      <td>-0.628897</td>\n",
       "      <td>-0.152235</td>\n",
       "      <td>1</td>\n",
       "    </tr>\n",
       "    <tr>\n",
       "      <th>6</th>\n",
       "      <td>0.095549</td>\n",
       "      <td>-0.003928</td>\n",
       "      <td>-0.020833</td>\n",
       "      <td>1</td>\n",
       "    </tr>\n",
       "  </tbody>\n",
       "</table>\n",
       "</div>"
      ],
      "text/plain": [
       "   Monetary  Frequency   Recency  label\n",
       "0  1.041591  -0.132598 -0.752623      1\n",
       "2 -0.654240  -0.757567  0.342178      1\n",
       "3 -0.687925  -0.684042  0.645269      1\n",
       "5 -0.581415  -0.628897 -0.152235      1\n",
       "6  0.095549  -0.003928 -0.020833      1"
      ]
     },
     "execution_count": 81,
     "metadata": {},
     "output_type": "execute_result"
    }
   ],
   "source": [
    "Df1.head()"
   ]
  },
  {
   "cell_type": "code",
   "execution_count": 82,
   "metadata": {
    "execution": {
     "iopub.execute_input": "2021-09-25T14:47:40.399331Z",
     "iopub.status.busy": "2021-09-25T14:47:40.398410Z",
     "iopub.status.idle": "2021-09-25T14:47:40.407270Z",
     "shell.execute_reply": "2021-09-25T14:47:40.406312Z",
     "shell.execute_reply.started": "2021-09-25T14:47:40.399282Z"
    },
    "id": "EtkA9r_L1n5M"
   },
   "outputs": [],
   "source": [
    "C0=np.array(Df0.mean())\n",
    "C1=np.array(Df1.mean())"
   ]
  },
  {
   "cell_type": "code",
   "execution_count": 83,
   "metadata": {
    "execution": {
     "iopub.execute_input": "2021-09-25T14:47:40.409658Z",
     "iopub.status.busy": "2021-09-25T14:47:40.408740Z",
     "iopub.status.idle": "2021-09-25T14:47:40.423528Z",
     "shell.execute_reply": "2021-09-25T14:47:40.422136Z",
     "shell.execute_reply.started": "2021-09-25T14:47:40.409578Z"
    },
    "id": "7X-wvdmP3wzO",
    "outputId": "cc4622bb-353e-411a-da90-0a4fb2c824de"
   },
   "outputs": [
    {
     "data": {
      "text/plain": [
       "array([ 1.32399439,  1.4203393 , -0.65363747])"
      ]
     },
     "execution_count": 83,
     "metadata": {},
     "output_type": "execute_result"
    }
   ],
   "source": [
    "C0=C0[:-1]\n",
    "C0 #High group Customers"
   ]
  },
  {
   "cell_type": "code",
   "execution_count": 84,
   "metadata": {
    "execution": {
     "iopub.execute_input": "2021-09-25T14:47:40.425314Z",
     "iopub.status.busy": "2021-09-25T14:47:40.424823Z",
     "iopub.status.idle": "2021-09-25T14:47:40.438680Z",
     "shell.execute_reply": "2021-09-25T14:47:40.437376Z",
     "shell.execute_reply.started": "2021-09-25T14:47:40.425271Z"
    },
    "id": "6FwuR8Qh3w3U",
    "outputId": "d6cf39a0-4fde-4c97-8dc2-805e9ae0c946"
   },
   "outputs": [
    {
     "data": {
      "text/plain": [
       "array([-0.41558912, -0.44583087,  0.20517052])"
      ]
     },
     "execution_count": 84,
     "metadata": {},
     "output_type": "execute_result"
    }
   ],
   "source": [
    "C1=C1[:-1]\n",
    "C1 #Low group Customers"
   ]
  },
  {
   "cell_type": "code",
   "execution_count": 85,
   "metadata": {
    "execution": {
     "iopub.execute_input": "2021-09-25T14:47:40.440915Z",
     "iopub.status.busy": "2021-09-25T14:47:40.440675Z",
     "iopub.status.idle": "2021-09-25T14:47:42.892453Z",
     "shell.execute_reply": "2021-09-25T14:47:42.891782Z",
     "shell.execute_reply.started": "2021-09-25T14:47:40.440890Z"
    },
    "id": "MZfjX6en3w68"
   },
   "outputs": [],
   "source": [
    "AGC_I0=0\n",
    "AGC_I1=0\n",
    "\n",
    "for i in np.arange(Df0.shape[0]):\n",
    "  AGC_I0=AGC_I0+np.sum((Df0.iloc[i,:-1]-C0)**2)\n",
    "for i in np.arange(Df1.shape[0]):  \n",
    "  AGC_I1=AGC_I1+np.sum((Df1.iloc[i,:-1]-C1)**2)"
   ]
  },
  {
   "cell_type": "code",
   "execution_count": 86,
   "metadata": {
    "execution": {
     "iopub.execute_input": "2021-09-25T14:47:42.893862Z",
     "iopub.status.busy": "2021-09-25T14:47:42.893422Z",
     "iopub.status.idle": "2021-09-25T14:47:42.899477Z",
     "shell.execute_reply": "2021-09-25T14:47:42.898892Z",
     "shell.execute_reply.started": "2021-09-25T14:47:42.893831Z"
    },
    "id": "A1xFwlau3w9q",
    "outputId": "8c2b77d4-ee76-4f82-fd9a-0cee3fb2705f"
   },
   "outputs": [
    {
     "data": {
      "text/plain": [
       "(2652.5564348220096, 5495.4234585624545)"
      ]
     },
     "execution_count": 86,
     "metadata": {},
     "output_type": "execute_result"
    }
   ],
   "source": [
    "AGC_I0,AGC_I1"
   ]
  },
  {
   "cell_type": "code",
   "execution_count": 87,
   "metadata": {
    "execution": {
     "iopub.execute_input": "2021-09-25T14:47:42.901767Z",
     "iopub.status.busy": "2021-09-25T14:47:42.900475Z",
     "iopub.status.idle": "2021-09-25T14:47:42.916947Z",
     "shell.execute_reply": "2021-09-25T14:47:42.915865Z",
     "shell.execute_reply.started": "2021-09-25T14:47:42.901723Z"
    },
    "id": "IvD6SSrK4Hrj",
    "outputId": "a52ae328-fcf7-47eb-9063-ff6908834a58"
   },
   "outputs": [
    {
     "data": {
      "text/plain": [
       "8147.979893384464"
      ]
     },
     "execution_count": 87,
     "metadata": {},
     "output_type": "execute_result"
    }
   ],
   "source": [
    "AGC_I0+AGC_I1"
   ]
  },
  {
   "cell_type": "code",
   "execution_count": 88,
   "metadata": {
    "execution": {
     "iopub.execute_input": "2021-09-25T14:47:42.918903Z",
     "iopub.status.busy": "2021-09-25T14:47:42.918184Z",
     "iopub.status.idle": "2021-09-25T14:47:43.789742Z",
     "shell.execute_reply": "2021-09-25T14:47:43.788264Z",
     "shell.execute_reply.started": "2021-09-25T14:47:42.918869Z"
    },
    "id": "ue-fDfJU1nap",
    "outputId": "d8be7573-b856-465a-807d-1d2f94a6e78e"
   },
   "outputs": [
    {
     "data": {
      "image/png": "[encoded data removed]",
      "text/plain": [
       "<Figure size 402.375x360 with 1 Axes>"
      ]
     },
     "metadata": {
      "needs_background": "light"
     },
     "output_type": "display_data"
    }
   ],
   "source": [
    "sns.lmplot(x='Frequency', y='Monetary', hue='label', data=df_h)\n",
    "plt.show()"
   ]
  },
  {
   "cell_type": "code",
   "execution_count": 89,
   "metadata": {
    "execution": {
     "iopub.execute_input": "2021-09-25T14:47:43.791559Z",
     "iopub.status.busy": "2021-09-25T14:47:43.791255Z",
     "iopub.status.idle": "2021-09-25T14:47:44.620691Z",
     "shell.execute_reply": "2021-09-25T14:47:44.619348Z",
     "shell.execute_reply.started": "2021-09-25T14:47:43.791526Z"
    },
    "id": "T7caaBcx1ne8",
    "outputId": "84f074f8-cd7a-4d71-fe16-e83c8d611ff0"
   },
   "outputs": [
    {
     "data": {
      "image/png": "[encoded data removed]",
      "text/plain": [
       "<Figure size 402.375x360 with 1 Axes>"
      ]
     },
     "metadata": {
      "needs_background": "light"
     },
     "output_type": "display_data"
    }
   ],
   "source": [
    "sns.lmplot(x='Recency', y='Monetary', hue='label', data=df_h)\n",
    "plt.show()"
   ]
  },
  {
   "cell_type": "markdown",
   "metadata": {
    "id": "VFbdVbTf5YK4"
   },
   "source": [
    "# silhouette score of agglomerative clustering is high and inertia is low caompared to kmeans so agglomerative is good cluster.With the help of that we built  classification models."
   ]
  },
  {
   "cell_type": "code",
   "execution_count": 90,
   "metadata": {
    "execution": {
     "iopub.execute_input": "2021-09-25T14:47:44.622774Z",
     "iopub.status.busy": "2021-09-25T14:47:44.622263Z",
     "iopub.status.idle": "2021-09-25T14:47:44.628276Z",
     "shell.execute_reply": "2021-09-25T14:47:44.627660Z",
     "shell.execute_reply.started": "2021-09-25T14:47:44.622736Z"
    },
    "id": "3zo1u_yO6GKV"
   },
   "outputs": [],
   "source": [
    "x= df_h.drop('label',axis=1)\n",
    "y= df_h['label']"
   ]
  },
  {
   "cell_type": "code",
   "execution_count": 91,
   "metadata": {
    "execution": {
     "iopub.execute_input": "2021-09-25T14:47:44.630192Z",
     "iopub.status.busy": "2021-09-25T14:47:44.629457Z",
     "iopub.status.idle": "2021-09-25T14:47:44.641311Z",
     "shell.execute_reply": "2021-09-25T14:47:44.640694Z",
     "shell.execute_reply.started": "2021-09-25T14:47:44.630157Z"
    },
    "id": "-kplYLfm6dU-"
   },
   "outputs": [],
   "source": [
    "from sklearn.model_selection import train_test_split\n",
    "from sklearn.tree import DecisionTreeClassifier\n",
    "from sklearn.metrics import classification_report "
   ]
  },
  {
   "cell_type": "code",
   "execution_count": 92,
   "metadata": {
    "execution": {
     "iopub.execute_input": "2021-09-25T14:47:44.642851Z",
     "iopub.status.busy": "2021-09-25T14:47:44.642622Z",
     "iopub.status.idle": "2021-09-25T14:47:44.660307Z",
     "shell.execute_reply": "2021-09-25T14:47:44.659117Z",
     "shell.execute_reply.started": "2021-09-25T14:47:44.642826Z"
    },
    "id": "B5wD7Qyg6GRO"
   },
   "outputs": [],
   "source": [
    "test_size = 0.30 # taking 70:30 training and test set\n",
    "seed = 10  # Random numbmer seeding for reapeatability of the code\n",
    "x_train, x_test, y_train, y_test = train_test_split(x, y, test_size=test_size, random_state=seed)"
   ]
  },
  {
   "cell_type": "code",
   "execution_count": 93,
   "metadata": {
    "execution": {
     "iopub.execute_input": "2021-09-25T14:47:44.662331Z",
     "iopub.status.busy": "2021-09-25T14:47:44.661864Z",
     "iopub.status.idle": "2021-09-25T14:47:44.682822Z",
     "shell.execute_reply": "2021-09-25T14:47:44.681843Z",
     "shell.execute_reply.started": "2021-09-25T14:47:44.662295Z"
    },
    "id": "k92YSFfh50Ke",
    "outputId": "29cfcbe0-0287-4f78-9f3d-318b9bf29393"
   },
   "outputs": [
    {
     "data": {
      "text/plain": [
       "DecisionTreeClassifier(max_depth=3)"
      ]
     },
     "execution_count": 93,
     "metadata": {},
     "output_type": "execute_result"
    }
   ],
   "source": [
    "#DecisionTreeClassifier is the corresponding Classifier\n",
    "Dtree = DecisionTreeClassifier(max_depth=3)\n",
    "Dtree.fit (x_train, y_train)"
   ]
  },
  {
   "cell_type": "code",
   "execution_count": 94,
   "metadata": {
    "execution": {
     "iopub.execute_input": "2021-09-25T14:47:44.684573Z",
     "iopub.status.busy": "2021-09-25T14:47:44.684133Z",
     "iopub.status.idle": "2021-09-25T14:47:44.692781Z",
     "shell.execute_reply": "2021-09-25T14:47:44.692111Z",
     "shell.execute_reply.started": "2021-09-25T14:47:44.684540Z"
    },
    "id": "MJyDkiQg6q7t"
   },
   "outputs": [],
   "source": [
    "predictValues_train = Dtree.predict(x_train)\n",
    "predictValues_validate = Dtree.predict(x_test)\n"
   ]
  },
  {
   "cell_type": "code",
   "execution_count": 95,
   "metadata": {
    "execution": {
     "iopub.execute_input": "2021-09-25T14:47:44.694214Z",
     "iopub.status.busy": "2021-09-25T14:47:44.693826Z",
     "iopub.status.idle": "2021-09-25T14:47:44.714681Z",
     "shell.execute_reply": "2021-09-25T14:47:44.713548Z",
     "shell.execute_reply.started": "2021-09-25T14:47:44.694183Z"
    },
    "id": "Uv1HlZx27Slr",
    "outputId": "a7d6367a-0df8-4ef2-fcc8-1092297a74e1"
   },
   "outputs": [
    {
     "name": "stdout",
     "output_type": "stream",
     "text": [
      "              precision    recall  f1-score   support\n",
      "\n",
      "           0       0.93      0.95      0.94       793\n",
      "           1       0.98      0.98      0.98      2597\n",
      "\n",
      "    accuracy                           0.97      3390\n",
      "   macro avg       0.96      0.96      0.96      3390\n",
      "weighted avg       0.97      0.97      0.97      3390\n",
      "\n"
     ]
    }
   ],
   "source": [
    "print(classification_report(y_train, predictValues_train))"
   ]
  },
  {
   "cell_type": "code",
   "execution_count": 96,
   "metadata": {
    "execution": {
     "iopub.execute_input": "2021-09-25T14:47:44.716237Z",
     "iopub.status.busy": "2021-09-25T14:47:44.715986Z",
     "iopub.status.idle": "2021-09-25T14:47:44.729429Z",
     "shell.execute_reply": "2021-09-25T14:47:44.728265Z",
     "shell.execute_reply.started": "2021-09-25T14:47:44.716208Z"
    },
    "id": "BFLF1RKm6q_U",
    "outputId": "d512542e-28bf-4391-fbd5-8bfab5fe190c"
   },
   "outputs": [
    {
     "name": "stdout",
     "output_type": "stream",
     "text": [
      "              precision    recall  f1-score   support\n",
      "\n",
      "           0       0.92      0.93      0.93       364\n",
      "           1       0.98      0.97      0.98      1089\n",
      "\n",
      "    accuracy                           0.96      1453\n",
      "   macro avg       0.95      0.95      0.95      1453\n",
      "weighted avg       0.96      0.96      0.96      1453\n",
      "\n"
     ]
    }
   ],
   "source": [
    "print(classification_report(y_test, predictValues_validate))"
   ]
  },
  {
   "cell_type": "markdown",
   "metadata": {},
   "source": [
    "# Good Model f1_score is 96%\n",
    "# Model has no overfit and underfit."
   ]
  }
 ],
 "metadata": {
  "kernelspec": {
   "display_name": "Python 3",
   "language": "python",
   "name": "python3"
  },
  "language_info": {
   "codemirror_mode": {
    "name": "ipython",
    "version": 3
   },
   "file_extension": ".py",
   "mimetype": "text/x-python",
   "name": "python",
   "nbconvert_exporter": "python",
   "pygments_lexer": "ipython3",
   "version": "3.8.5"
  }
 },
 "nbformat": 4,
 "nbformat_minor": 4
}
